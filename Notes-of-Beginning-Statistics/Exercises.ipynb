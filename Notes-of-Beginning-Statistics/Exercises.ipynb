{
 "cells": [
  {
   "cell_type": "markdown",
   "metadata": {},
   "source": [
    "# CH 2.1\n",
    "![2.1ex](https://raw.githubusercontent.com/ellickhou/Entrance-exam-of-Taiwan-AI-Academy/master/Notes-of-Beginning-Statistics/img/2.1ex.png?token=ALBR66QOCOFH43QJG4ERRCC5D5HA6)"
   ]
  },
  {
   "cell_type": "code",
   "execution_count": 63,
   "metadata": {},
   "outputs": [
    {
     "name": "stdout",
     "output_type": "stream",
     "text": [
      "[9, 12, 13, 14, 14, 15, 15, 15, 15, 15, 15, 16, 16, 16, 17, 18, 18, 19, 19, 20]\n",
      "[0.05, 0.0, 0.0, 0.05, 0.05, 0.1, 0.3, 0.15, 0.05, 0.1, 0.1, 0.05]\n",
      "[0.05, 0.05, 0.05, 0.1, 0.15000000000000002, 0.25, 0.55, 0.7000000000000001, 0.7500000000000001, 0.8500000000000001, 0.9500000000000001, 1.0]\n"
     ]
    },
    {
     "data": {
      "image/png": "[encoded data removed]",
      "text/plain": [
       "<Figure size 432x288 with 1 Axes>"
      ]
     },
     "metadata": {},
     "output_type": "display_data"
    },
    {
     "name": "stdout",
     "output_type": "stream",
     "text": [
      "Ans:1)19, 2)20\n"
     ]
    }
   ],
   "source": [
    "import matplotlib.pyplot as plt\n",
    "ds = [20, 15, 14, 14, 18, 15, 17, 16, 16, 18, 15, 19, 12, 13, 9,\n",
    "      19, 15, 15, 16, 15]\n",
    "ds_sorted = sorted(ds)\n",
    "rf_ds = [ds.count(i)/ len(ds) for i in range(9,21) ]\n",
    "sum_rf_ds = [sum(rf_ds[0:i])for i in range (1,13)]\n",
    "print(ds_sorted)\n",
    "print(rf_ds)\n",
    "print(sum_rf_ds)\n",
    "fig = plt.figure()\n",
    "ax = fig.add_subplot()\n",
    "with plt.rc_context({ 'axes.edgecolor':'orange', \n",
    "                     'xtick.color':'red', 'ytick.color':'green', 'figure.facecolor':'white'}):\n",
    "    ax.bar([i for i in range(9,21)], rf_ds, label='rf')\n",
    "    ax.plot([i for i in range(9,21)], sum_rf_ds, label='sum of rf')\n",
    "    ax.set_xlabel(\"weekly sales\")\n",
    "    ax.set_ylabel(\"rf\")\n",
    "\n",
    "plt.show()\n",
    "print(\"Ans:1)19, 2)20\")"
   ]
  },
  {
   "cell_type": "markdown",
   "metadata": {},
   "source": [
    "# CH 2.2 \n",
    "![2.2ex](https://raw.githubusercontent.com/ellickhou/Entrance-exam-of-Taiwan-AI-Academy/master/Notes-of-Beginning-Statistics/img/2.2ex.png?token=ALBR66R4DOC2GCSTU6QRBS25D5HDM)"
   ]
  },
  {
   "cell_type": "code",
   "execution_count": 89,
   "metadata": {},
   "outputs": [
    {
     "name": "stdout",
     "output_type": "stream",
     "text": [
      "(a)\n",
      "np\n",
      "3.1818181818181817\n",
      "3.0\n",
      "numpy沒有'mode' function\n",
      "stat\n",
      "3.1818181818181817\n",
      "3\n",
      "5\n",
      "stat for np.array\n",
      "3\n",
      "3\n",
      "5\n",
      "\u001b[1;33m*np.array用np, list用stat\u001b[0m\n",
      "(b)\n",
      "6.181818181818182\n",
      "6\n",
      "8\n",
      "(c)\n",
      "-2.8181818181818183\n",
      "-3\n",
      "-1\n"
     ]
    }
   ],
   "source": [
    "import numpy as np\n",
    "import statistics as stat\n",
    "# A.\n",
    "ds = np.array([5, -2, 6, 14, -3, 0, 1, 4, 3, 2, 5])\n",
    "print(\"(a)\",\"np\",np.mean(ds), np.median(ds),\"numpy沒有'mode' function\", sep = \"\\n\")\n",
    "DS = [5, -2, 6, 14, -3, 0, 1, 4, 3, 2, 5]\n",
    "print(\"stat\", stat.mean(DS), stat.median(DS), stat.mode(DS), sep = \"\\n\")\n",
    "print(\"stat for np.array\", stat.mean(ds), stat.median(ds), stat.mode(ds), sep = \"\\n\")\n",
    "print(\"\\033[1;33m*np.array用np, list用stat\\033[0m\")\n",
    "# B.\n",
    "DS2 = [DS[i] + 3 for i in range(0,11)]\n",
    "print(\"(b)\", stat.mean(DS2), stat.median(DS2), stat.mode(DS2), sep = \"\\n\")\n",
    "# C.\n",
    "DS3 = [DS[i] - 6 for i in range(0,11)]\n",
    "print(\"(c)\", stat.mean(DS3), stat.median(DS3), stat.mode(DS3), sep = \"\\n\")\n"
   ]
  },
  {
   "cell_type": "markdown",
   "metadata": {},
   "source": [
    "# CH 2.3\n"
   ]
  },
  {
   "cell_type": "raw",
   "metadata": {},
   "source": []
  },
  {
   "cell_type": "code",
   "execution_count": null,
   "metadata": {},
   "outputs": [],
   "source": []
  }
 ],
 "metadata": {
  "kernelspec": {
   "display_name": "EETAIA",
   "language": "python",
   "name": "eetaia"
  },
  "language_info": {
   "codemirror_mode": {
    "name": "ipython",
    "version": 3
   },
   "file_extension": ".py",
   "mimetype": "text/x-python",
   "name": "python",
   "nbconvert_exporter": "python",
   "pygments_lexer": "ipython3",
   "version": "3.7.3"
  }
 },
 "nbformat": 4,
 "nbformat_minor": 2
}
