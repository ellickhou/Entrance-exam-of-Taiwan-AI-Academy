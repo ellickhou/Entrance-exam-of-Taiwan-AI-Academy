{
 "cells": [
  {
   "cell_type": "markdown",
   "metadata": {},
   "source": [
    "# CH 2 Descriptive Statistics"
   ]
  },
  {
   "cell_type": "markdown",
   "metadata": {},
   "source": [
    "## CH 2.1 Popular Data Display\n",
    "\n",
    "no. 15\n",
    "![2.1ex](https://raw.githubusercontent.com/ellickhou/Entrance-exam-of-Taiwan-AI-Academy/master/Notes-of-Beginning-Statistics/img/2.1ex.png?token=ALBR66QOCOFH43QJG4ERRCC5D5HA6)"
   ]
  },
  {
   "cell_type": "code",
   "execution_count": 16,
   "metadata": {},
   "outputs": [
    {
     "name": "stdout",
     "output_type": "stream",
     "text": [
      "[9, 12, 13, 14, 14, 15, 15, 15, 15, 15, 15, 16, 16, 16, 17, 18, 18, 19, 19, 20]\n",
      "[0.05, 0.0, 0.0, 0.05, 0.05, 0.1, 0.3, 0.15, 0.05, 0.1, 0.1, 0.05]\n",
      "[0.05, 0.05, 0.05, 0.1, 0.15000000000000002, 0.25, 0.55, 0.7000000000000001, 0.7500000000000001, 0.8500000000000001, 0.9500000000000001, 1.0]\n"
     ]
    },
    {
     "data": {
      "text/plain": [
       "<Figure size 640x480 with 1 Axes>"
      ]
     },
     "metadata": {},
     "output_type": "display_data"
    },
    {
     "name": "stdout",
     "output_type": "stream",
     "text": [
      "Ans:1)19, 2)20\n"
     ]
    }
   ],
   "source": [
    "import matplotlib.pyplot as plt\n",
    "ds = [20, 15, 14, 14, 18, 15, 17, 16, 16, 18, 15, 19, 12, 13, 9,\n",
    "      19, 15, 15, 16, 15]\n",
    "ds_sorted = sorted(ds)\n",
    "rf_ds = [ds.count(i)/ len(ds) for i in range(9,21) ]\n",
    "sum_rf_ds = [sum(rf_ds[0:i])for i in range (1,13)]\n",
    "print(ds_sorted)\n",
    "print(rf_ds)\n",
    "print(sum_rf_ds)\n",
    "fig = plt.figure()\n",
    "ax = fig.add_subplot()\n",
    "with plt.rc_context({ 'axes.edgecolor':'orange', \n",
    "                     'xtick.color':'red', 'ytick.color':'green', 'figure.facecolor':'white'}):\n",
    "    ax.bar([i for i in range(9,21)], rf_ds, label='rf')\n",
    "    ax.plot([i for i in range(9,21)], sum_rf_ds, label='sum of rf')\n",
    "    ax.set_xlabel(\"weekly sales\")\n",
    "    ax.set_ylabel(\"rf\")\n",
    "\n",
    "plt.show()\n",
    "print(\"Ans:1)19, 2)20\")"
   ]
  },
  {
   "cell_type": "markdown",
   "metadata": {},
   "source": [
    "## CH 2.2 Measures of Central Location\n",
    "![2.2ex](https://raw.githubusercontent.com/ellickhou/Entrance-exam-of-Taiwan-AI-Academy/master/Notes-of-Beginning-Statistics/img/2.2ex.png?token=ALBR66R4DOC2GCSTU6QRBS25D5HDM)"
   ]
  },
  {
   "cell_type": "code",
   "execution_count": 17,
   "metadata": {},
   "outputs": [
    {
     "name": "stdout",
     "output_type": "stream",
     "text": [
      "(a)\n",
      "np\n",
      "3.1818181818181817\n",
      "3.0\n",
      "numpy沒有'mode' function\n",
      "stat\n",
      "3.1818181818181817\n",
      "3\n",
      "5\n",
      "stat for np.array\n",
      "3\n",
      "3\n",
      "5\n",
      "\u001b[1;33m*np.array用np, list用stat\u001b[0m\n",
      "(b)\n",
      "6.181818181818182\n",
      "6\n",
      "8\n",
      "(c)\n",
      "-2.8181818181818183\n",
      "-3\n",
      "-1\n"
     ]
    }
   ],
   "source": [
    "import numpy as np\n",
    "import statistics as stat\n",
    "# A.\n",
    "ds = np.array([5, -2, 6, 14, -3, 0, 1, 4, 3, 2, 5])\n",
    "print(\"(a)\",\"np\",np.mean(ds), np.median(ds),\"numpy沒有'mode' function\", sep = \"\\n\")\n",
    "DS = [5, -2, 6, 14, -3, 0, 1, 4, 3, 2, 5]\n",
    "print(\"stat\", stat.mean(DS), stat.median(DS), stat.mode(DS), sep = \"\\n\")\n",
    "print(\"stat for np.array\", stat.mean(ds), stat.median(ds), stat.mode(ds), sep = \"\\n\")\n",
    "print(\"\\033[1;33m*np.array用np, list用stat\\033[0m\")\n",
    "# B.\n",
    "DS2 = [DS[i] + 3 for i in range(0,11)]\n",
    "print(\"(b)\", stat.mean(DS2), stat.median(DS2), stat.mode(DS2), sep = \"\\n\")\n",
    "# C.\n",
    "DS3 = [DS[i] - 6 for i in range(0,11)]\n",
    "print(\"(c)\", stat.mean(DS3), stat.median(DS3), stat.mode(DS3), sep = \"\\n\")\n"
   ]
  },
  {
   "cell_type": "markdown",
   "metadata": {},
   "source": [
    "## CH 2.3 Measures of Variability\n",
    "![2.3ex.2](https://raw.githubusercontent.com/ellickhou/Entrance-exam-of-Taiwan-AI-Academy/master/Notes-of-Beginning-Statistics/img/2.3ex.1.png)\n",
    "\n",
    "目標:\n",
    "1. 產生一元素個數為n的隨機list\n",
    "2. 當mean != 0 時 重新生產一個\n",
    "3. 當mean == 0 但 stdev >= 1 時 重新生產一個\n",
    "4. 當stdev >= 1 時 重新生產一個\n",
    "5. 當stdev < 1 但 mean != 0 時 重新生產一個\n",
    "\n",
    "[詳細說明]()"
   ]
  },
  {
   "cell_type": "code",
   "execution_count": null,
   "metadata": {},
   "outputs": [],
   "source": []
  },
  {
   "cell_type": "code",
   "execution_count": null,
   "metadata": {},
   "outputs": [],
   "source": [
    "import statistics as stat\n",
    "import random\n",
    "import time\n",
    "ts = time.time()\n",
    "def list_generator(list_len, interval_min, interval_max, float_digits):\n",
    "    def num_generator(list_len, interval_min, interval_max, float_digits):\n",
    "                                                  # 定義公式 num_generator，用來產生含有n個元素的隨機list\n",
    "        nums = []                                 # 定義一個空list: nums\n",
    "        while len(nums) < list_len:               # 當list的長度 < list_len 為 true 時\n",
    "            rnum = round(random.uniform(interval_min, interval_max), float_digits) \n",
    "                                                  # 產生一個隨機數 rnum，範圍為 interval_min ~ interval_max\n",
    "                                                  # 四捨五入至小數點第 float_digits 位\n",
    "            nums += [rnum]                        # 將隨機數 rnum 加入 nums，nums 長度 < n 仍為 true 時，\n",
    "                                                  # while 迴圈繼續\n",
    "        return nums                               # 當 nums 長度 < list_len 為 false 時，回傳 nums，結束迴圈\n",
    "    ds_unfiltered = num_generator(list_len, interval_min, interval_max, float_digits)      \n",
    "                                                  # 定義沒篩過的 ds = list_generator的結果，也就是回傳值nums\n",
    "    \n",
    "    \n",
    "    while stat.mean(ds_unfiltered) != 0:          # true 迴圈開始         \n",
    "        ds_unfiltered = num_generator(list_len, interval_min, interval_max, float_digits)\n",
    "                                                  # 產生新的直到 mean != 0 false ，也就是 mean == 0跳出迴圈\n",
    "        if stat.mean(ds_unfiltered) != 0:         # 當mean != 0 時不進入下一層迴圈\n",
    "            continue\n",
    "        while stat.stdev(ds_unfiltered) >= 1:     # 當 stdev >= 1 true，\n",
    "            ds_unfiltered = num_generator(list_len, interval_min, interval_max, float_digits)\n",
    "                                                  # 產生新的，直到 stdev >= 1 false，也就是stdev < 1 跳出迴圈\n",
    "                                                  # 跳出內層迴圈後，檢查 mean != 0 是否true，true 重新開始外層迴圈\n",
    "                                                  # false 獲得同時滿足兩個條件的隨機數list\n",
    "    while stat.stdev(ds_unfiltered) >= 1:\n",
    "        ds_unfiltered = num_generatorr(list_len, interval_min, interval_max, float_digits)\n",
    "        if stat.stdev(ds_unfiltered) >= 1:\n",
    "            continue\n",
    "        while stat.mean(ds_unfiltered) != 0:\n",
    "            ds_unfiltered = num_generator(list_len, interval_min, interval_max, float_digits)\n",
    "    \n",
    "    ds_filtered = ds_unfiltered\n",
    "    return ds_filtered\n",
    "ds = list_generator(3, -1, 1, 1)\n",
    "print(\"data set = \", ds,\"mean =\", stat.mean(ds), \"stdev = \", stat.stdev(ds), sep = '\\n')\n"
   ]
  },
  {
   "cell_type": "markdown",
   "metadata": {},
   "source": [
    "![2.3ex.2](https://raw.githubusercontent.com/ellickhou/Entrance-exam-of-Taiwan-AI-Academy/master/Notes-of-Beginning-Statistics/img/2.3ex.2.png)"
   ]
  },
  {
   "cell_type": "code",
   "execution_count": null,
   "metadata": {},
   "outputs": [],
   "source": []
  },
  {
   "cell_type": "code",
   "execution_count": 21,
   "metadata": {},
   "outputs": [
    {
     "name": "stdout",
     "output_type": "stream",
     "text": [
      "4.622081388685877\n",
      "4.622081388685877\n",
      "4.622081388685877\n",
      "For stdev 'S' = square root of S^2, S^2 = sum(xi - x_mean)^2/n-1,\n",
      "varies by (xi - x_mean) & n , since n doesn't change,\n",
      "sum(xi - x_mean) dominate the variety of S^2, \n",
      "but add & subtract won't change the result of sum(xi - x_mean),\n",
      "(cause they vary linearly by add & subtract, they get bigger and smaller together)\n",
      "so the variances S^2 doesn't change, S won't change.\n"
     ]
    }
   ],
   "source": [
    "import statistics as stat\n",
    "ds_1 = [5, -2, 6, 14, -3, 0, 1, 4, 3, 2, 5]\n",
    "ds_2 = [ds_1[i] + 3 for i in range(0, 11)]\n",
    "ds_3 = [ds_1[i] - 6 for i in range(0, 11)]\n",
    "print(stat.stdev(ds_1))\n",
    "print(stat.stdev(ds_2))\n",
    "print(stat.stdev(ds_3))\n",
    "print(\"For stdev \\'S\\' = square root of S^2, S^2 = sum(xi - x_mean)^2/n-1,\",\n",
    "      \"varies by (xi - x_mean) & n , since n doesn't change,\",\n",
    "      \"sum(xi - x_mean) dominate the variety of S^2, \",\n",
    "      \"but add & subtract won't change the result of sum(xi - x_mean),\",\n",
    "      \"(cause they vary linearly by add & subtract, they get bigger and smaller together)\",\n",
    "      \"so the variances S^2 doesn't change, S won't change.\", sep = \"\\n\")"
   ]
  },
  {
   "cell_type": "code",
   "execution_count": 22,
   "metadata": {},
   "outputs": [
    {
     "name": "stdout",
     "output_type": "stream",
     "text": [
      "<module 'random' from 'E:\\\\Anaconda3\\\\envs\\\\EETAIA\\\\lib\\\\random.py'>\n",
      "Help on built-in function round in module builtins:\n",
      "\n",
      "round(number, ndigits=None)\n",
      "    Round a number to a given precision in decimal digits.\n",
      "    \n",
      "    The return value is an integer if ndigits is omitted or None.  Otherwise\n",
      "    the return value has the same type as the number.  ndigits may be negative.\n",
      "\n"
     ]
    }
   ],
   "source": [
    "2**0.5\n",
    "import random\n",
    "print(random)\n",
    "help(round)"
   ]
  },
  {
   "cell_type": "code",
   "execution_count": 23,
   "metadata": {},
   "outputs": [
    {
     "data": {
      "text/plain": [
       "2"
      ]
     },
     "execution_count": 23,
     "metadata": {},
     "output_type": "execute_result"
    }
   ],
   "source": [
    "random.randint(-5, 5)"
   ]
  },
  {
   "cell_type": "code",
   "execution_count": 24,
   "metadata": {},
   "outputs": [
    {
     "name": "stdout",
     "output_type": "stream",
     "text": [
      "Help on class list in module builtins:\n",
      "\n",
      "class list(object)\n",
      " |  list(iterable=(), /)\n",
      " |  \n",
      " |  Built-in mutable sequence.\n",
      " |  \n",
      " |  If no argument is given, the constructor creates a new empty list.\n",
      " |  The argument must be an iterable if specified.\n",
      " |  \n",
      " |  Methods defined here:\n",
      " |  \n",
      " |  __add__(self, value, /)\n",
      " |      Return self+value.\n",
      " |  \n",
      " |  __contains__(self, key, /)\n",
      " |      Return key in self.\n",
      " |  \n",
      " |  __delitem__(self, key, /)\n",
      " |      Delete self[key].\n",
      " |  \n",
      " |  __eq__(self, value, /)\n",
      " |      Return self==value.\n",
      " |  \n",
      " |  __ge__(self, value, /)\n",
      " |      Return self>=value.\n",
      " |  \n",
      " |  __getattribute__(self, name, /)\n",
      " |      Return getattr(self, name).\n",
      " |  \n",
      " |  __getitem__(...)\n",
      " |      x.__getitem__(y) <==> x[y]\n",
      " |  \n",
      " |  __gt__(self, value, /)\n",
      " |      Return self>value.\n",
      " |  \n",
      " |  __iadd__(self, value, /)\n",
      " |      Implement self+=value.\n",
      " |  \n",
      " |  __imul__(self, value, /)\n",
      " |      Implement self*=value.\n",
      " |  \n",
      " |  __init__(self, /, *args, **kwargs)\n",
      " |      Initialize self.  See help(type(self)) for accurate signature.\n",
      " |  \n",
      " |  __iter__(self, /)\n",
      " |      Implement iter(self).\n",
      " |  \n",
      " |  __le__(self, value, /)\n",
      " |      Return self<=value.\n",
      " |  \n",
      " |  __len__(self, /)\n",
      " |      Return len(self).\n",
      " |  \n",
      " |  __lt__(self, value, /)\n",
      " |      Return self<value.\n",
      " |  \n",
      " |  __mul__(self, value, /)\n",
      " |      Return self*value.\n",
      " |  \n",
      " |  __ne__(self, value, /)\n",
      " |      Return self!=value.\n",
      " |  \n",
      " |  __repr__(self, /)\n",
      " |      Return repr(self).\n",
      " |  \n",
      " |  __reversed__(self, /)\n",
      " |      Return a reverse iterator over the list.\n",
      " |  \n",
      " |  __rmul__(self, value, /)\n",
      " |      Return value*self.\n",
      " |  \n",
      " |  __setitem__(self, key, value, /)\n",
      " |      Set self[key] to value.\n",
      " |  \n",
      " |  __sizeof__(self, /)\n",
      " |      Return the size of the list in memory, in bytes.\n",
      " |  \n",
      " |  append(self, object, /)\n",
      " |      Append object to the end of the list.\n",
      " |  \n",
      " |  clear(self, /)\n",
      " |      Remove all items from list.\n",
      " |  \n",
      " |  copy(self, /)\n",
      " |      Return a shallow copy of the list.\n",
      " |  \n",
      " |  count(self, value, /)\n",
      " |      Return number of occurrences of value.\n",
      " |  \n",
      " |  extend(self, iterable, /)\n",
      " |      Extend list by appending elements from the iterable.\n",
      " |  \n",
      " |  index(self, value, start=0, stop=9223372036854775807, /)\n",
      " |      Return first index of value.\n",
      " |      \n",
      " |      Raises ValueError if the value is not present.\n",
      " |  \n",
      " |  insert(self, index, object, /)\n",
      " |      Insert object before index.\n",
      " |  \n",
      " |  pop(self, index=-1, /)\n",
      " |      Remove and return item at index (default last).\n",
      " |      \n",
      " |      Raises IndexError if list is empty or index is out of range.\n",
      " |  \n",
      " |  remove(self, value, /)\n",
      " |      Remove first occurrence of value.\n",
      " |      \n",
      " |      Raises ValueError if the value is not present.\n",
      " |  \n",
      " |  reverse(self, /)\n",
      " |      Reverse *IN PLACE*.\n",
      " |  \n",
      " |  sort(self, /, *, key=None, reverse=False)\n",
      " |      Stable sort *IN PLACE*.\n",
      " |  \n",
      " |  ----------------------------------------------------------------------\n",
      " |  Static methods defined here:\n",
      " |  \n",
      " |  __new__(*args, **kwargs) from builtins.type\n",
      " |      Create and return a new object.  See help(type) for accurate signature.\n",
      " |  \n",
      " |  ----------------------------------------------------------------------\n",
      " |  Data and other attributes defined here:\n",
      " |  \n",
      " |  __hash__ = None\n",
      "\n"
     ]
    }
   ],
   "source": [
    "help(list)"
   ]
  },
  {
   "cell_type": "code",
   "execution_count": 25,
   "metadata": {},
   "outputs": [
    {
     "name": "stdout",
     "output_type": "stream",
     "text": [
      "[5, 3]\n"
     ]
    }
   ],
   "source": [
    "ds = [5]\n",
    "dss = 3\n",
    "ds.extend([dss])\n",
    "print(ds)"
   ]
  },
  {
   "cell_type": "code",
   "execution_count": 26,
   "metadata": {},
   "outputs": [
    {
     "data": {
      "text/plain": [
       "0.6"
      ]
     },
     "execution_count": 26,
     "metadata": {},
     "output_type": "execute_result"
    }
   ],
   "source": [
    "round(random.uniform(-2, 2), 1)"
   ]
  },
  {
   "cell_type": "code",
   "execution_count": 27,
   "metadata": {},
   "outputs": [
    {
     "ename": "SyntaxError",
     "evalue": "invalid syntax (<ipython-input-27-63244a88e0f6>, line 3)",
     "output_type": "error",
     "traceback": [
      "\u001b[1;36m  File \u001b[1;32m\"<ipython-input-27-63244a88e0f6>\"\u001b[1;36m, line \u001b[1;32m3\u001b[0m\n\u001b[1;33m    ds3 = map(lambda (a,b):a*b,zip(ds,ds))\u001b[0m\n\u001b[1;37m                     ^\u001b[0m\n\u001b[1;31mSyntaxError\u001b[0m\u001b[1;31m:\u001b[0m invalid syntax\n"
     ]
    }
   ],
   "source": [
    "ds = [1,2,3]\n",
    "ds2 = [1,2,3]\n",
    "ds3 = map(lambda (a,b):a*b,zip(ds,ds))\n",
    "print(ds2)"
   ]
  },
  {
   "cell_type": "code",
   "execution_count": null,
   "metadata": {},
   "outputs": [],
   "source": [
    "stat.stdev([-1.7, -0.2, -0.6])\n"
   ]
  },
  {
   "cell_type": "code",
   "execution_count": null,
   "metadata": {},
   "outputs": [],
   "source": [
    "import time\n",
    "ts = time.time()\n",
    "i = 0\n",
    "while i < 10:\n",
    "    i += 1\n",
    "    print(i)\n",
    "te = time.time()\n",
    "print(\"共花 %f s\" %(te-ts))"
   ]
  }
 ],
 "metadata": {
  "kernelspec": {
   "display_name": "EETAIA",
   "language": "python",
   "name": "eetaia"
  },
  "language_info": {
   "codemirror_mode": {
    "name": "ipython",
    "version": 3
   },
   "file_extension": ".py",
   "mimetype": "text/x-python",
   "name": "python",
   "nbconvert_exporter": "python",
   "pygments_lexer": "ipython3",
   "version": "3.7.3"
  }
 },
 "nbformat": 4,
 "nbformat_minor": 2
}
