{
 "cells": [
  {
   "cell_type": "markdown",
   "metadata": {},
   "source": [
    "# CH 2 Descriptive Statistics"
   ]
  },
  {
   "cell_type": "markdown",
   "metadata": {},
   "source": [
    "## CH 2.1 Popular Data Display\n",
    "\n",
    "no. 15\n",
    "![2.1ex](https://raw.githubusercontent.com/ellickhou/Entrance-exam-of-Taiwan-AI-Academy/master/Notes-of-Beginning-Statistics/img/2.1ex.png?token=ALBR66QOCOFH43QJG4ERRCC5D5HA6)"
   ]
  },
  {
   "cell_type": "code",
   "execution_count": 16,
   "metadata": {},
   "outputs": [
    {
     "name": "stdout",
     "output_type": "stream",
     "text": [
      "[9, 12, 13, 14, 14, 15, 15, 15, 15, 15, 15, 16, 16, 16, 17, 18, 18, 19, 19, 20]\n",
      "[0.05, 0.0, 0.0, 0.05, 0.05, 0.1, 0.3, 0.15, 0.05, 0.1, 0.1, 0.05]\n",
      "[0.05, 0.05, 0.05, 0.1, 0.15000000000000002, 0.25, 0.55, 0.7000000000000001, 0.7500000000000001, 0.8500000000000001, 0.9500000000000001, 1.0]\n"
     ]
    },
    {
     "data": {
      "text/plain": [
       "<Figure size 640x480 with 1 Axes>"
      ]
     },
     "metadata": {},
     "output_type": "display_data"
    },
    {
     "name": "stdout",
     "output_type": "stream",
     "text": [
      "Ans:1)19, 2)20\n"
     ]
    }
   ],
   "source": [
    "import matplotlib.pyplot as plt\n",
    "ds = [20, 15, 14, 14, 18, 15, 17, 16, 16, 18, 15, 19, 12, 13, 9,\n",
    "      19, 15, 15, 16, 15]\n",
    "ds_sorted = sorted(ds)\n",
    "rf_ds = [ds.count(i)/ len(ds) for i in range(9,21) ]\n",
    "sum_rf_ds = [sum(rf_ds[0:i])for i in range (1,13)]\n",
    "print(ds_sorted)\n",
    "print(rf_ds)\n",
    "print(sum_rf_ds)\n",
    "fig = plt.figure()\n",
    "ax = fig.add_subplot()\n",
    "with plt.rc_context({ 'axes.edgecolor':'orange', \n",
    "                     'xtick.color':'red', 'ytick.color':'green', 'figure.facecolor':'white'}):\n",
    "    ax.bar([i for i in range(9,21)], rf_ds, label='rf')\n",
    "    ax.plot([i for i in range(9,21)], sum_rf_ds, label='sum of rf')\n",
    "    ax.set_xlabel(\"weekly sales\")\n",
    "    ax.set_ylabel(\"rf\")\n",
    "\n",
    "plt.show()\n",
    "print(\"Ans:1)19, 2)20\")"
   ]
  },
  {
   "cell_type": "markdown",
   "metadata": {},
   "source": [
    "## CH 2.2 Measures of Central Location\n",
    "![2.2ex](https://raw.githubusercontent.com/ellickhou/Entrance-exam-of-Taiwan-AI-Academy/master/Notes-of-Beginning-Statistics/img/2.2ex.png?token=ALBR66R4DOC2GCSTU6QRBS25D5HDM)"
   ]
  },
  {
   "cell_type": "code",
   "execution_count": 17,
   "metadata": {},
   "outputs": [
    {
     "name": "stdout",
     "output_type": "stream",
     "text": [
      "(a)\n",
      "np\n",
      "3.1818181818181817\n",
      "3.0\n",
      "numpy沒有'mode' function\n",
      "stat\n",
      "3.1818181818181817\n",
      "3\n",
      "5\n",
      "stat for np.array\n",
      "3\n",
      "3\n",
      "5\n",
      "\u001b[1;33m*np.array用np, list用stat\u001b[0m\n",
      "(b)\n",
      "6.181818181818182\n",
      "6\n",
      "8\n",
      "(c)\n",
      "-2.8181818181818183\n",
      "-3\n",
      "-1\n"
     ]
    }
   ],
   "source": [
    "import numpy as np\n",
    "import statistics as stat\n",
    "# A.\n",
    "ds = np.array([5, -2, 6, 14, -3, 0, 1, 4, 3, 2, 5])\n",
    "print(\"(a)\",\"np\",np.mean(ds), np.median(ds),\"numpy沒有'mode' function\", sep = \"\\n\")\n",
    "DS = [5, -2, 6, 14, -3, 0, 1, 4, 3, 2, 5]\n",
    "print(\"stat\", stat.mean(DS), stat.median(DS), stat.mode(DS), sep = \"\\n\")\n",
    "print(\"stat for np.array\", stat.mean(ds), stat.median(ds), stat.mode(ds), sep = \"\\n\")\n",
    "print(\"\\033[1;33m*np.array用np, list用stat\\033[0m\")\n",
    "# B.\n",
    "DS2 = [DS[i] + 3 for i in range(0,11)]\n",
    "print(\"(b)\", stat.mean(DS2), stat.median(DS2), stat.mode(DS2), sep = \"\\n\")\n",
    "# C.\n",
    "DS3 = [DS[i] - 6 for i in range(0,11)]\n",
    "print(\"(c)\", stat.mean(DS3), stat.median(DS3), stat.mode(DS3), sep = \"\\n\")\n"
   ]
  },
  {
   "cell_type": "markdown",
   "metadata": {},
   "source": [
    "## CH 2.3 Measures of Variability\n",
    "![2.3ex.1](https://raw.githubusercontent.com/ellickhou/Entrance-exam-of-Taiwan-AI-Academy/master/Notes-of-Beginning-Statistics/img/2.3ex.1.png)\n",
    "\n",
    "目標:\n",
    "1. 產生一元素個數為n的隨機list\n",
    "2. 當mean != 0 時 重新生產一個\n",
    "3. 當mean == 0 但 stdev >= 1 時 重新生產一個\n",
    "4. 當stdev >= 1 時 重新生產一個\n",
    "5. 當stdev < 1 但 mean != 0 時 重新生產一個\n",
    "\n",
    "[詳細說明](https://github.com/ellickhou/Entrance-exam-of-Taiwan-AI-Academy/blob/master/Notes-of-Beginning-Statistics/list_generator%20exercise%20.ipynb)"
   ]
  },
  {
   "cell_type": "code",
   "execution_count": null,
   "metadata": {},
   "outputs": [],
   "source": [
    "import statistics as stat\n",
    "import random\n",
    "import time\n",
    "ts = time.time()\n",
    "def list_generator(list_len, interval_min, interval_max, float_digits):\n",
    "    def num_generator(list_len, interval_min, interval_max, float_digits):\n",
    "                                                  # 定義公式 num_generator，用來產生含有n個元素的隨機list\n",
    "        nums = []                                 # 定義一個空list: nums\n",
    "        while len(nums) < list_len:               # 當list的長度 < list_len 為 true 時\n",
    "            rnum = round(random.uniform(interval_min, interval_max), float_digits) \n",
    "                                                  # 產生一個隨機數 rnum，範圍為 interval_min ~ interval_max\n",
    "                                                  # 四捨五入至小數點第 float_digits 位\n",
    "            nums += [rnum]                        # 將隨機數 rnum 加入 nums，nums 長度 < n 仍為 true 時，\n",
    "                                                  # while 迴圈繼續\n",
    "        return nums                               # 當 nums 長度 < list_len 為 false 時，回傳 nums，結束迴圈\n",
    "    ds_unfiltered = num_generator(list_len, interval_min, interval_max, float_digits)      \n",
    "                                                  # 定義沒篩過的 ds = list_generator的結果，也就是回傳值nums\n",
    "    \n",
    "    \n",
    "    while stat.mean(ds_unfiltered) != 0:          # true 迴圈開始         \n",
    "        ds_unfiltered = num_generator(list_len, interval_min, interval_max, float_digits)\n",
    "                                                  # 產生新的直到 mean != 0 false ，也就是 mean == 0跳出迴圈\n",
    "        if stat.mean(ds_unfiltered) != 0:         # 當mean != 0 時不進入下一層迴圈\n",
    "            continue\n",
    "        while stat.stdev(ds_unfiltered) >= 1:     # 當 stdev >= 1 true，\n",
    "            ds_unfiltered = num_generator(list_len, interval_min, interval_max, float_digits)\n",
    "                                                  # 產生新的，直到 stdev >= 1 false，也就是stdev < 1 跳出迴圈\n",
    "                                                  # 跳出內層迴圈後，檢查 mean != 0 是否true，true 重新開始外層迴圈\n",
    "                                                  # false 獲得同時滿足兩個條件的隨機數list\n",
    "    while stat.stdev(ds_unfiltered) >= 1:\n",
    "        ds_unfiltered = num_generatorr(list_len, interval_min, interval_max, float_digits)\n",
    "        if stat.stdev(ds_unfiltered) >= 1:\n",
    "            continue\n",
    "        while stat.mean(ds_unfiltered) != 0:\n",
    "            ds_unfiltered = num_generator(list_len, interval_min, interval_max, float_digits)\n",
    "    \n",
    "    ds_filtered = ds_unfiltered\n",
    "    return ds_filtered\n",
    "ds = list_generator(3, -1, 1, 1)\n",
    "print(\"data set = \", ds,\"mean =\", stat.mean(ds), \"stdev = \", stat.stdev(ds), sep = '\\n')\n"
   ]
  },
  {
   "cell_type": "markdown",
   "metadata": {},
   "source": [
    "![2.3ex.2](https://raw.githubusercontent.com/ellickhou/Entrance-exam-of-Taiwan-AI-Academy/master/Notes-of-Beginning-Statistics/img/2.3ex.2.png)"
   ]
  },
  {
   "cell_type": "code",
   "execution_count": 2,
   "metadata": {},
   "outputs": [
    {
     "name": "stdout",
     "output_type": "stream",
     "text": [
      "4.622081388685877\n",
      "4.622081388685877\n",
      "4.622081388685877\n",
      "For stdev 'S' = square root of S^2, S^2 = sum(xi - x_mean)^2/n-1,\n",
      "varies by (xi - x_mean) & n , since n doesn't change,\n",
      "sum(xi - x_mean) dominate the variety of S^2, \n",
      "but add & subtract won't change the result of sum(xi - x_mean),\n",
      "(cause they vary linearly by add & subtract, they get bigger and smaller together)\n",
      "so the variances S^2 doesn't change, S won't change.\n"
     ]
    }
   ],
   "source": [
    "import statistics as stat\n",
    "ds_1 = [5, -2, 6, 14, -3, 0, 1, 4, 3, 2, 5]\n",
    "ds_2 = [ds_1[i] + 3 for i in range(0, 11)]\n",
    "ds_3 = [ds_1[i] - 6 for i in range(0, 11)]\n",
    "print(stat.stdev(ds_1))\n",
    "print(stat.stdev(ds_2))\n",
    "print(stat.stdev(ds_3))\n",
    "print(\"For stdev \\'S\\' = square root of S^2, S^2 = sum(xi - x_mean)^2/n-1,\",\n",
    "      \"varies by (xi - x_mean) & n , since n doesn't change,\",\n",
    "      \"sum(xi - x_mean) dominate the variety of S^2, \",\n",
    "      \"but add & subtract won't change the result of sum(xi - x_mean),\",\n",
    "      \"(cause they vary linearly by add & subtract, they get bigger and smaller together)\",\n",
    "      \"so the variances S^2 doesn't change, S won't change.\", sep = \"\\n\")"
   ]
  },
  {
   "cell_type": "markdown",
   "metadata": {},
   "source": [
    "## CH 2.3 Measures of Variability"
   ]
  }
 ],
 "metadata": {
  "kernelspec": {
   "display_name": "EETAIA",
   "language": "python",
   "name": "eetaia"
  },
  "language_info": {
   "codemirror_mode": {
    "name": "ipython",
    "version": 3
   },
   "file_extension": ".py",
   "mimetype": "text/x-python",
   "name": "python",
   "nbconvert_exporter": "python",
   "pygments_lexer": "ipython3",
   "version": "3.7.3"
  }
 },
 "nbformat": 4,
 "nbformat_minor": 2
}
