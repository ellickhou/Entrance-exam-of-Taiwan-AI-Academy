{
 "cells": [
  {
   "cell_type": "markdown",
   "metadata": {},
   "source": [
    "# CH 2 Descriptive Statistics"
   ]
  },
  {
   "cell_type": "markdown",
   "metadata": {},
   "source": [
    "## CH 2.1 Popular Data Display\n",
    "\n",
    "no. 15\n",
    "![2.1ex](https://raw.githubusercontent.com/ellickhou/Entrance-exam-of-Taiwan-AI-Academy/master/Notes-of-Beginning-Statistics/img/2.1ex.png?token=ALBR66QOCOFH43QJG4ERRCC5D5HA6)"
   ]
  },
  {
   "cell_type": "code",
   "execution_count": 241,
   "metadata": {},
   "outputs": [
    {
     "name": "stdout",
     "output_type": "stream",
     "text": [
      "[9, 12, 13, 14, 14, 15, 15, 15, 15, 15, 15, 16, 16, 16, 17, 18, 18, 19, 19, 20]\n",
      "[0.05, 0.0, 0.0, 0.05, 0.05, 0.1, 0.3, 0.15, 0.05, 0.1, 0.1, 0.05]\n",
      "[0.05, 0.05, 0.05, 0.1, 0.15, 0.25, 0.55, 0.7, 0.75, 0.85, 0.95, 1.0]\n"
     ]
    },
    {
     "data": {
      "image/png": "[encoded data removed]",
      "text/plain": [
       "<Figure size 432x288 with 1 Axes>"
      ]
     },
     "metadata": {},
     "output_type": "display_data"
    },
    {
     "name": "stdout",
     "output_type": "stream",
     "text": [
      "Ans:1)19, 2)20\n"
     ]
    }
   ],
   "source": [
    "import matplotlib.pyplot as plt\n",
    "%matplotlib inline\n",
    "ds = [20, 15, 14, 14, 18, 15, 17, 16, 16, 18, 15, 19, 12, 13, 9,\n",
    "      19, 15, 15, 16, 15]\n",
    "ds.sort()\n",
    "rf_ds = [ds.count(i)/ len(ds) for i in range(min(ds),max(ds)+1) ]\n",
    "\n",
    "sum_rf_ds = [round(sum(rf_ds[0:i]), 2) for i in range(1,len(rf_ds)+1) ]  # for i...要放在最外面，\n",
    "print(ds)                                                      # 否則type 會被認定為generator\n",
    "print(rf_ds)                                                   # 無法計算\n",
    "print(sum_rf_ds)                                               # 因為上限不取，所以i從 0 開始取\n",
    "fig, ax = plt.subplots(facecolor = (1,1,1))\n",
    "with plt.rc_context({'axes.edgecolor':'white' ,\n",
    "                     'xtick.color':'red', 'ytick.color':'green', \n",
    "                     'figure.facecolor':'red'}):\n",
    "    ax.bar([i for i in range(min(ds),max(ds)+1)], rf_ds, label='rf')\n",
    "    ax.plot([i for i in range(min(ds),max(ds)+1)], sum_rf_ds, color='r', label='sum of rf')\n",
    "    ax.set_xlabel(\"weekly sales\")\n",
    "    ax.set_ylabel(\"rf\")\n",
    "\n",
    "plt.show()\n",
    "print(\"Ans:1)19, 2)20\")"
   ]
  },
  {
   "cell_type": "markdown",
   "metadata": {},
   "source": [
    "## CH 2.2 Measures of Central Location\n",
    "![2.2ex](https://raw.githubusercontent.com/ellickhou/Entrance-exam-of-Taiwan-AI-Academy/master/Notes-of-Beginning-Statistics/img/2.2ex.png?token=ALBR66R4DOC2GCSTU6QRBS25D5HDM)"
   ]
  },
  {
   "cell_type": "code",
   "execution_count": 36,
   "metadata": {},
   "outputs": [
    {
     "name": "stdout",
     "output_type": "stream",
     "text": [
      "(a)\n",
      "np\n",
      "3.1818181818181817\n",
      "3.0\n",
      "numpy沒有'mode' function\n",
      "stat\n",
      "3.1818181818181817\n",
      "3\n",
      "5\n",
      "stat for np.array\n",
      "3\n",
      "3\n",
      "5\n",
      "\u001b[1;33m*np.array用np, list用stat\u001b[0m\n",
      "(b)\n",
      "6.181818181818182\n",
      "6\n",
      "8\n",
      "(c)\n",
      "-2.8181818181818183\n",
      "-3\n",
      "-1\n"
     ]
    }
   ],
   "source": [
    "import numpy as np\n",
    "import statistics as stat\n",
    "# A.\n",
    "ds = np.array([5, -2, 6, 14, -3, 0, 1, 4, 3, 2, 5])\n",
    "print(\"(a)\",\"np\",np.mean(ds), np.median(ds),\"numpy沒有'mode' function\", sep = \"\\n\")\n",
    "DS = [5, -2, 6, 14, -3, 0, 1, 4, 3, 2, 5]\n",
    "print(\"stat\", stat.mean(DS), stat.median(DS), stat.mode(DS), sep = \"\\n\")\n",
    "print(\"stat for np.array\", stat.mean(ds), stat.median(ds), stat.mode(ds), sep = \"\\n\")\n",
    "print(\"\\033[1;33m*np.array用np, list用stat\\033[0m\")\n",
    "# B.\n",
    "DS2 = [DS[i] + 3 for i in range(len(DS))]\n",
    "print(\"(b)\", stat.mean(DS2), stat.median(DS2), stat.mode(DS2), sep = \"\\n\")\n",
    "# C.\n",
    "DS3 = [DS[i] - 6 for i in range(len(DS))]\n",
    "print(\"(c)\", stat.mean(DS3), stat.median(DS3), stat.mode(DS3), sep = \"\\n\")\n"
   ]
  },
  {
   "cell_type": "markdown",
   "metadata": {},
   "source": [
    "## CH 2.3 Measures of Variability\n",
    "![2.3ex.1](https://raw.githubusercontent.com/ellickhou/Entrance-exam-of-Taiwan-AI-Academy/master/Notes-of-Beginning-Statistics/img/2.3ex.1.png)\n",
    "\n",
    "目標:\n",
    "1. 產生一元素個數為n的隨機list\n",
    "2. 當mean != 0 時 重新生產一個\n",
    "3. 當mean == 0 但 stdev >= 1 時 重新生產一個\n",
    "4. 當stdev >= 1 時 重新生產一個\n",
    "5. 當stdev < 1 但 mean != 0 時 重新生產一個\n",
    "\n",
    "[list_generator exercise](https://github.com/ellickhou/Entrance-exam-of-Taiwan-AI-Academy/blob/master/Notes-of-Beginning-Statistics/list_generator%20exercise%20.ipynb)"
   ]
  },
  {
   "cell_type": "code",
   "execution_count": 15,
   "metadata": {},
   "outputs": [
    {
     "name": "stdout",
     "output_type": "stream",
     "text": [
      "data set = \n",
      "[0.3, -0.3, -0.0]\n",
      "mean =\n",
      "0.0\n",
      "stdev = \n",
      "0.3\n"
     ]
    }
   ],
   "source": [
    "import statistics as stat\n",
    "import random\n",
    "import time\n",
    "ts = time.time()\n",
    "def list_generator(list_len, interval_min, interval_max, float_digits):\n",
    "    def num_generator(list_len, interval_min, interval_max, float_digits):\n",
    "                                                  # 定義公式 num_generator，用來產生含有n個元素的隨機list\n",
    "        nums = []                                 # 定義一個空list: nums\n",
    "        while len(nums) < list_len:               # 當list的長度 < list_len 為 true 時\n",
    "            rnum = round(random.uniform(interval_min, interval_max), float_digits) \n",
    "                                                  # 產生一個隨機數 rnum，範圍為 interval_min ~ interval_max\n",
    "                                                  # 四捨五入至小數點第 float_digits 位\n",
    "            nums += [rnum]                        # 將隨機數 rnum 加入 nums，nums 長度 < n 仍為 true 時，\n",
    "                                                  # while 迴圈繼續\n",
    "        return nums                               # 當 nums 長度 < list_len 為 false 時，回傳 nums，結束迴圈\n",
    "    ds_unfiltered = num_generator(list_len, interval_min, interval_max, float_digits)      \n",
    "                                                  # 定義沒篩過的 ds = list_generator的結果，也就是回傳值nums\n",
    "    \n",
    "    \n",
    "    while stat.mean(ds_unfiltered) != 0:          # true 迴圈開始         \n",
    "        ds_unfiltered = num_generator(list_len, interval_min, interval_max, float_digits)\n",
    "                                                  # 產生新的直到 mean != 0 false ，也就是 mean == 0跳出迴圈\n",
    "        if stat.mean(ds_unfiltered) != 0:         # 當mean != 0 時不進入下一層迴圈\n",
    "            continue\n",
    "        while stat.stdev(ds_unfiltered) >= 1:     # 當 stdev >= 1 true，\n",
    "            ds_unfiltered = num_generator(list_len, interval_min, interval_max, float_digits)\n",
    "                                                  # 產生新的，直到 stdev >= 1 false，也就是stdev < 1 跳出迴圈\n",
    "                                                  # 跳出內層迴圈後，檢查 mean != 0 是否true，true 重新開始外層迴圈\n",
    "                                                  # false 獲得同時滿足兩個條件的隨機數list\n",
    "    while stat.stdev(ds_unfiltered) >= 1:\n",
    "        ds_unfiltered = num_generatorr(list_len, interval_min, interval_max, float_digits)\n",
    "        if stat.stdev(ds_unfiltered) >= 1:\n",
    "            continue\n",
    "        while stat.mean(ds_unfiltered) != 0:\n",
    "            ds_unfiltered = num_generator(list_len, interval_min, interval_max, float_digits)\n",
    "    \n",
    "    ds_filtered = ds_unfiltered\n",
    "    return ds_filtered\n",
    "ds = list_generator(3, -1, 1, 1)\n",
    "print(\"data set = \", ds,\"mean =\", stat.mean(ds), \"stdev = \", stat.stdev(ds), sep = '\\n')\n"
   ]
  },
  {
   "cell_type": "markdown",
   "metadata": {},
   "source": [
    "![2.3ex.2](https://raw.githubusercontent.com/ellickhou/Entrance-exam-of-Taiwan-AI-Academy/master/Notes-of-Beginning-Statistics/img/2.3ex.2.png)"
   ]
  },
  {
   "cell_type": "code",
   "execution_count": 16,
   "metadata": {},
   "outputs": [
    {
     "name": "stdout",
     "output_type": "stream",
     "text": [
      "4.622081388685877\n",
      "4.622081388685877\n",
      "4.622081388685877\n",
      "For stdev 'S' = square root of S^2, S^2 = sum(xi - x_mean)^2/n-1,\n",
      "varies by (xi - x_mean) & n , since n doesn't change,\n",
      "sum(xi - x_mean) dominate the variety of S^2, \n",
      "but add & subtract won't change the result of sum(xi - x_mean),\n",
      "(cause they vary linearly by add & subtract, they get bigger and smaller together)\n",
      "so the variances S^2 doesn't change, S won't change.\n"
     ]
    }
   ],
   "source": [
    "import statistics as stat\n",
    "ds_1 = [5, -2, 6, 14, -3, 0, 1, 4, 3, 2, 5]\n",
    "ds_2 = [ds_1[i] + 3 for i in range(0, 11)]\n",
    "ds_3 = [ds_1[i] - 6 for i in range(0, 11)]\n",
    "print(stat.stdev(ds_1))\n",
    "print(stat.stdev(ds_2))\n",
    "print(stat.stdev(ds_3))\n",
    "print(\"For stdev \\'S\\' = square root of S^2, S^2 = sum(xi - x_mean)^2/n-1,\",\n",
    "      \"varies by (xi - x_mean) & n , since n doesn't change,\",\n",
    "      \"sum(xi - x_mean) dominate the variety of S^2, \",\n",
    "      \"but add & subtract won't change the result of sum(xi - x_mean),\",\n",
    "      \"(cause they vary linearly by add & subtract, they get bigger and smaller together)\",\n",
    "      \"so the variances S^2 doesn't change, S won't change.\", sep = \"\\n\")"
   ]
  },
  {
   "cell_type": "markdown",
   "metadata": {},
   "source": [
    "## CH 2.4 Relative Position of \n",
    "![2.4ex.1](https://raw.githubusercontent.com/ellickhou/Entrance-exam-of-Taiwan-AI-Academy/master/Notes-of-Beginning-Statistics/img/2.4ex.1.png)\n",
    "\n",
    "1. 產生ds\n",
    "\n",
    "    加入對應f次數的通勤時間x\n",
    "2. 排序\n",
    "3. 提取元素"
   ]
  },
  {
   "cell_type": "code",
   "execution_count": 119,
   "metadata": {},
   "outputs": [
    {
     "name": "stdout",
     "output_type": "stream",
     "text": [
      "[26, 27, 28, 29, 30, 31, 32]\n",
      "[3, 4, 16, 12, 6, 2, 1]\n",
      "[26 26 26 27 27 27 27 28 28 28 28 28 28 28 28 28 28 28 28 28 28 28 28 29\n",
      " 29 29 29 29 29 29 29 29 29 29 29 30 30 30 30 30 30 31 31 32]\n",
      "Ans:\n",
      "0.9318181818181818\n",
      "0.06818181818181823\n",
      "try np.percentile\n",
      "取值在數值變換處為線性遞增\n",
      "以93%時為30為例\n",
      "30.0\n",
      "30.419999999999995\n",
      "0.9772727272727273\n"
     ]
    }
   ],
   "source": [
    "import numpy as np\n",
    "def ds_generator(target_dict):\n",
    "    mins_need = list(target_dict.keys())\n",
    "    f = list(target_dict.values())\n",
    "    ds = []\n",
    "    for i in range(len(mins_need)):\n",
    "        ds += [mins_need[i]] * f[i]\n",
    "    ds.sort()\n",
    "    return ds\n",
    "\n",
    "def percentile_calculator(target_dict, target_key):\n",
    "    mins_need = list(target_dict.keys())\n",
    "    f = list(target_dict.values())\n",
    "    f_totle = sum(f)\n",
    "    f_count = []\n",
    "    for i in range(min(mins_need), target_key + 1):\n",
    "        f_count += [target_dict[i]]\n",
    "        \n",
    "    f_count_sum = sum(f_count)\n",
    "    return f_count_sum / f_totle\n",
    "\n",
    "mins_f_dict = { 26:3, 27:4, 28:16, 29:12, 30:6, 31:2, 32:1}\n",
    "mins_need = list(mins_f_dict.keys())\n",
    "f = list(mins_f_dict.values())\n",
    "\n",
    "ds = np.array(ds_generator(mins_f_dict))\n",
    "\n",
    "percentile_30 =  percentile_calculator(mins_f_dict, 30)\n",
    "\n",
    "print(mins_need, f, ds, sep = \"\\n\")\n",
    "\n",
    "print(\"Ans:\", percentile_30, sep = \"\\n\")\n",
    "\n",
    "print(1 - percentile_30)\n",
    "\n",
    "print(\"try np.percentile\",\"取值在數值變換處為線性遞增\",\"以93%時為30為例\"\n",
    "      ,np.percentile(ds, 93),np.percentile(ds, 94), sep = \"\\n\")\n",
    "print(percentile_calculator(mins_f_dict, 31))"
   ]
  },
  {
   "cell_type": "markdown",
   "metadata": {},
   "source": [
    "![2.4ex.2](https://raw.githubusercontent.com/ellickhou/Entrance-exam-of-Taiwan-AI-Academy/master/Notes-of-Beginning-Statistics/img/2.4ex.2.png)"
   ]
  },
  {
   "cell_type": "code",
   "execution_count": 319,
   "metadata": {},
   "outputs": [
    {
     "name": "stdout",
     "output_type": "stream",
     "text": [
      "1500.0 2000.0 2800.0\n",
      "1300.0\n",
      "but there are 49 samples in ds 50% = 25th, 25% = 12.5th, 75% = 37.5th\n",
      "12.5th = 1450.0 *np.percentile 沒有辦法取到偶數狀況\n",
      "12.5th = 1450.0 \n",
      " 50th = 2000 \n",
      " 75th = 2800.0\n",
      "IQR =  1350.0\n",
      "five-number summary =  \n",
      " 12.5th = 1450.0 \n",
      " 50th = 2000 \n",
      " 75th = 2800.0 \n",
      " xmin =  400 \n",
      " xmax =  3800\n"
     ]
    }
   ],
   "source": [
    "import numpy as np\n",
    "_0x00 = np.array([4] + [5] + [6] + [8]*2)*100\n",
    "_1x00 = np.array([0]*2 + [1] + [3] + [4]*3 + [5]*3 + [6]*2 + [7]*3 + [8]*2 + [9])*100+1000\n",
    "_2x00 = np.array([0]*4 + [1] + [2]*2 + [4] + [5] + [6]*2 + [7]*2 + [8]*2 + [9]*2)*100+2000\n",
    "_3x00 = np.array([0]*2 + [1]*2 + [2] + [4] + [5] + [6] + [8])*100+3000\n",
    "\n",
    "ds = list(_0x00) + list(_1x00) + list(_2x00) + list(_3x00)\n",
    "print(np.percentile(ds, 25), np.percentile(ds, 50), np.percentile(ds, 75))\n",
    "print(np.percentile(ds, 75) - np.percentile(ds, 25))\n",
    "print('but there are 49 samples in ds 50% = 25th, 25% = 12.5th, 75% = 37.5th')\n",
    "_25_ = (ds[11] + ds[12])/2\n",
    "print(\"12.5th =\",_25_, \"*np.percentile 沒有辦法取到偶數狀況\")\n",
    "_50_ = (ds[25])\n",
    "_75_ = (ds[36] + ds[37])/2\n",
    "print(\"12.5th =\", _25_, \"\\n\", \"50th =\", _50_, \"\\n\",  \"75th =\", _75_)\n",
    "print(\"IQR = \", _75_ - _25_)\n",
    "print(\"five-number summary = \", \"\\n\",\"12.5th =\",\n",
    "      _25_, \"\\n\", \"50th =\", _50_, \"\\n\",  \"75th =\", _75_,\"\\n\", \n",
    "     \"xmin = \", min(ds), \"\\n\", \"xmax = \", max(ds))"
   ]
  },
  {
   "cell_type": "markdown",
   "metadata": {},
   "source": [
    "## CH 2.5 The Empirical Rule and Chebyshev’s Theorem\n",
    "![2.5ex.1-1](https://raw.githubusercontent.com/ellickhou/Entrance-exam-of-Taiwan-AI-Academy/master/Notes-of-Beginning-Statistics/img/2.5ex.1-1.png)\n",
    "![2.5ex.1-2](https://raw.githubusercontent.com/ellickhou/Entrance-exam-of-Taiwan-AI-Academy/master/Notes-of-Beginning-Statistics/img/2.5ex.1-2.png)"
   ]
  },
  {
   "cell_type": "code",
   "execution_count": 318,
   "metadata": {},
   "outputs": [
    {
     "name": "stdout",
     "output_type": "stream",
     "text": [
      "ds_maen = 48.960000\n",
      "ds_stdev = 0.734847\n"
     ]
    },
    {
     "data": {
      "image/png": "[encoded data removed]",
      "text/plain": [
       "<Figure size 432x288 with 1 Axes>"
      ]
     },
     "metadata": {},
     "output_type": "display_data"
    },
    {
     "name": "stdout",
     "output_type": "stream",
     "text": [
      "y,\n",
      "in range mean +- 1d : [48.22515307716505, 49.694846922834955]\n",
      "there are 18 samples\n",
      "for Empirical Rule, in mean +- 1d have 68% of samples = 17.0\n",
      "Chebyshev’s Theorem dose not define 1 stdev\n",
      "there are 23 samples\n",
      "CT guaranteed 18.750000, hence at least 19\n"
     ]
    }
   ],
   "source": [
    "import statistics as stat\n",
    "import matplotlib.pyplot as plt\n",
    "%matplotlib inline\n",
    "ds = [47] + [48]*3 + [49]*18 + [50]*2 + [51]\n",
    "x = [47, 48, 49, 50, 51]\n",
    "f = [1, 3, 18, 2, 1]\n",
    "#a\n",
    "ds_mean = stat.mean(ds)\n",
    "ds_stdev = stat.stdev(ds)\n",
    "print(\"ds_maen = %f\" %ds_mean, \"ds_stdev = %f\" %ds_stdev, sep =\"\\n\")\n",
    "#b\n",
    "fig, ax = plt.subplots(facecolor = (1,1,1))\n",
    "ax.plot(x, f, 'xkcd:crimson')\n",
    "plt.show()\n",
    "ds_1d = [ds_mean - ds_stdev, ds_mean + ds_stdev]\n",
    "def smp_in_xd_calculator(ds, interval_min, interval_max):\n",
    "    smp_count = 0\n",
    "    for i in range(len(ds)):\n",
    "        if ds[i] >= interval_min and ds[i] <= interval_max:\n",
    "            smp_count += 1\n",
    "        i += 1\n",
    "    return smp_count\n",
    "        \n",
    "smp_in_1d = smp_in_xd_calculator(ds, ds_1d[0], ds_1d[1])\n",
    "total_samples = sum(f)\n",
    "print(\"y,\", \"in range mean +- 1d : %s\" %ds_1d,\n",
    "      \"there are %d samples\" %smp_in_1d,\n",
    "      \"for Empirical Rule, in mean +- 1d have 68%% of samples = %.1f\" %(total_samples*0.68),\n",
    "      sep = \"\\n\")\n",
    "\n",
    "#c\n",
    "print(\"Chebyshev’s Theorem dose not define 1 stdev\")\n",
    "#d\n",
    "ds_2d = [ds_mean - 2*ds_stdev, ds_mean + 2*ds_stdev]\n",
    "smp_in_2d = smp_in_xd_calculator(ds, ds_2d[0], ds_2d[1])\n",
    "CT_2d = (1 - (1/(2**2)))*total_samples\n",
    "print(\"there are %d samples\" %smp_in_2d,\n",
    "     \"CT guaranteed %f, hence at least %d\" %(CT_2d, round(CT_2d, 0)), sep = \"\\n\")"
   ]
  },
  {
   "cell_type": "markdown",
   "metadata": {},
   "source": [
    "# CH 3 Descriptive Statistics"
   ]
  },
  {
   "cell_type": "markdown",
   "metadata": {},
   "source": [
    "## CH 3.1 Sample Spaces, Events, and Their Probabilities\n",
    "![3.1ex.1-1](https://raw.githubusercontent.com/ellickhou/Entrance-exam-of-Taiwan-AI-Academy/master/Notes-of-Beginning-Statistics/img/3.1ex.1-1.png)\n",
    "![3.1ex.1-2](https://raw.githubusercontent.com/ellickhou/Entrance-exam-of-Taiwan-AI-Academy/master/Notes-of-Beginning-Statistics/img/3.1ex.1-2.png)"
   ]
  },
  {
   "cell_type": "code",
   "execution_count": 331,
   "metadata": {},
   "outputs": [
    {
     "name": "stdout",
     "output_type": "stream",
     "text": [
      "a = 0.55\n",
      "b = 0.76\n",
      "c = 0.19\n",
      "d = 0.11\n"
     ]
    }
   ],
   "source": [
    "under20 = {\"0\":0.02, \"1or2\":0.14, \"3more\":0.08}\n",
    "_20_29 = {\"0\":0.07, \"1or2\":0.37, \"3more\":0.11}\n",
    "_30_and_above = {\"0\":0.1, \"1or2\":0.1, \"3more\":0.01}\n",
    "under20_p = list(under20.values())\n",
    "_20_29_p = list(_20_29.values())\n",
    "_30_and_above_p = list(_30_and_above.values())\n",
    "a = sum(_20_29_p)\n",
    "b = sum(_20_29_p) + sum(_30_and_above_p)\n",
    "c = under20[\"0\"] + _20_29[\"0\"] + _30_and_above[\"0\"]\n",
    "d = _20_29[\"3more\"]\n",
    "print(\"a = %.2f\" %a, \"b = %.2f\" %b, \"c = %.2f\" %c, \"d = %.2f\" %d, sep = \"\\n\")"
   ]
  },
  {
   "cell_type": "code",
   "execution_count": 223,
   "metadata": {},
   "outputs": [
    {
     "data": {
      "image/png": "[encoded data removed]",
      "text/plain": [
       "<Figure size 432x288 with 1 Axes>"
      ]
     },
     "metadata": {},
     "output_type": "display_data"
    }
   ],
   "source": [
    "import matplotlib.pyplot as plt\n",
    "import numpy as np\n",
    "\n",
    "t = np.linspace(0.0, 2.0, 201)\n",
    "s = np.sin(2 * np.pi * t)\n",
    "\n",
    "# 1) RGB tuple:facecolor=(.40, .31, .31)\n",
    "fig, ax = plt.subplots(facecolor=(.40, .31, .31))\n",
    "# 2) hex string:\n",
    "ax.set_facecolor(\"white\")\n",
    "# 3) gray level string:\n",
    "ax.set_title('Voltage vs. time chart', color='.9')\n",
    "# 4) single letter color string\n",
    "ax.set_xlabel('time (s)', color='c')\n",
    "# 5) a named color:\n",
    "ax.set_ylabel('voltage (mV)', color='peachpuff')\n",
    "# 6) a named xkcd color:\n",
    "ax.plot(t, s, 'xkcd:crimson')\n",
    "# 7) Cn notation:\n",
    "ax.plot(t, .7*s, color='C4', linestyle='--')\n",
    "# 8) tab notation:\n",
    "ax.tick_params(labelcolor='tab:orange')\n",
    "\n",
    "\n",
    "plt.show()"
   ]
  },
  {
   "cell_type": "code",
   "execution_count": 224,
   "metadata": {},
   "outputs": [
    {
     "name": "stdout",
     "output_type": "stream",
     "text": [
      "Help on function rc_context in module matplotlib.pyplot:\n",
      "\n",
      "rc_context(rc=None, fname=None)\n",
      "    Return a context manager for managing rc settings.\n",
      "    \n",
      "    This allows one to do::\n",
      "    \n",
      "        with mpl.rc_context(fname='screen.rc'):\n",
      "            plt.plot(x, a)\n",
      "            with mpl.rc_context(fname='print.rc'):\n",
      "                plt.plot(x, b)\n",
      "            plt.plot(x, c)\n",
      "    \n",
      "    The 'a' vs 'x' and 'c' vs 'x' plots would have settings from\n",
      "    'screen.rc', while the 'b' vs 'x' plot would have settings from\n",
      "    'print.rc'.\n",
      "    \n",
      "    A dictionary can also be passed to the context manager::\n",
      "    \n",
      "        with mpl.rc_context(rc={'text.usetex': True}, fname='screen.rc'):\n",
      "            plt.plot(x, a)\n",
      "    \n",
      "    The 'rc' dictionary takes precedence over the settings loaded from\n",
      "    'fname'.  Passing a dictionary only is also valid. For example a\n",
      "    common usage is::\n",
      "    \n",
      "        with mpl.rc_context(rc={'interactive': False}):\n",
      "            fig, ax = plt.subplots()\n",
      "            ax.plot(range(3), range(3))\n",
      "            fig.savefig('A.png', format='png')\n",
      "            plt.close(fig)\n",
      "\n"
     ]
    }
   ],
   "source": [
    "help(plt.rc_context)"
   ]
  },
  {
   "cell_type": "code",
   "execution_count": null,
   "metadata": {},
   "outputs": [],
   "source": []
  }
 ],
 "metadata": {
  "kernelspec": {
   "display_name": "EETAIA",
   "language": "python",
   "name": "eetaia"
  },
  "language_info": {
   "codemirror_mode": {
    "name": "ipython",
    "version": 3
   },
   "file_extension": ".py",
   "mimetype": "text/x-python",
   "name": "python",
   "nbconvert_exporter": "python",
   "pygments_lexer": "ipython3",
   "version": "3.7.3"
  }
 },
 "nbformat": 4,
 "nbformat_minor": 2
}
