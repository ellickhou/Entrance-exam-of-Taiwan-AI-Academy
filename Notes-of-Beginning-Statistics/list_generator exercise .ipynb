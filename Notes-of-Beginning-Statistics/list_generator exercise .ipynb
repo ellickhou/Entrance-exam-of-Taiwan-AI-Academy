{
 "cells": [
  {
   "cell_type": "markdown",
   "metadata": {},
   "source": [
    "## CH 2.3 Measures of Variability\n",
    "![2.3ex.2](https://raw.githubusercontent.com/ellickhou/Entrance-exam-of-Taiwan-AI-Academy/master/Notes-of-Beginning-Statistics/img/2.3ex.1.png)\n",
    "\n",
    "分類:\n",
    "\n",
    "隨機產生的數列會有4種\n",
    "    1. mean !=0 & stdev >= 1 (兩項都不符) \n",
    "    2. mean ==0 & stdev >= 1 (一項不符)\n",
    "    3. mean !=0 & stdev < 1  (一項不符)\n",
    "    4. mean ==0 & stdev < 1  (兩項都符合) \n",
    "\n",
    "目標:\n",
    "1. 產生一元素個數為n的隨機list\n",
    "2. 當mean != 0 時 重新生產一個\n",
    "3. 當mean == 0 但 stdev >= 1 時 重新生產一個\n",
    "4. 當stdev >= 1 時 重新生產一個\n",
    "5. 當stdev < 1 但 mean != 0 時 重新生產一個\n",
    "6. 當stdev < 1 且 mean == 0 時 輸出數列"
   ]
  },
  {
   "cell_type": "markdown",
   "metadata": {},
   "source": [
    "### test 1\n",
    "使用2個while 迴圈，當隨機亂數剛好符合時跳出迴圈，\n",
    "\n",
    "但當mean == 0 時不會進入迴圈直接輸出(stdev可能不 < 1)，且內層迴圈會一直計算\n",
    "\n",
    "-2~1, 小數點第1位\n",
    "\n",
    "取得10000組隨機數的時間 = 488.68\n",
    "\n",
    "平均時間 = 0.0449"
   ]
  },
  {
   "cell_type": "code",
   "execution_count": 10,
   "metadata": {},
   "outputs": [
    {
     "name": "stdout",
     "output_type": "stream",
     "text": [
      "\n",
      "\n",
      "stdev = square root of sum((xi - x_mean)^2)/n-1,\n",
      "stdev < 1, n = 3; x_mean = 0; root of sum((xi - x_mean)^2)/n-1 < 1,\n",
      "sum(xi - 0)^2/2 < 1,\n",
      "sum(xi)^2 < 2, sum(xi) = 0\n",
      "data set = \n",
      "[0.4, 0.6, -1.0]\n"
     ]
    },
    {
     "data": {
      "text/plain": [
       "'i = 0\\nn = 10000\\nwhile i < n:\\n    ds = num_filter(3)\\n    print(\"data set = \", ds, sep = \\'\\n\\')\\n    if stat.mean(ds) != 0:\\n        print(\"mean= \", stat.mean(ds), sep = \\'\\n\\')\\n    if stat.stdev(ds) >= 1:\\n        print(\"stdev= \", stat.stdev(ds), sep = \\'\\n\\')\\n    i += 1\\nte = time.time()\\nprint(\"總共花 %f s, 平均 =\" %(te-ts), (te-ts)/n)'"
      ]
     },
     "execution_count": 10,
     "metadata": {},
     "output_type": "execute_result"
    }
   ],
   "source": [
    "import statistics as stat\n",
    "import random\n",
    "import time\n",
    "print(\"\\n\",\"stdev = square root of sum((xi - x_mean)^2)/n-1,\",\n",
    "      \"stdev < 1, n = 3; x_mean = 0; root of sum((xi - x_mean)^2)/n-1 < 1,\",\n",
    "      \"sum(xi - 0)^2/2 < 1,\", \n",
    "      \"sum(xi)^2 < 2, sum(xi) = 0\", sep = \"\\n\")\n",
    "#ts = time.time()\n",
    "def list_generator(n):\n",
    "    def num_generator(n):                         # 定義公式 num_generator，用來產生含有n個元素的隨機list\n",
    "        nums = []                                 # 定義一個空list: nums\n",
    "        while len(nums) < n:                      # 當list的長度 < n 為 true 時\n",
    "            rnum = round(random.uniform(-2, 1), 1) # 產生一個隨機數 rnum，範圍為 -2 ~ 1\n",
    "                                                  # 四捨五入致小數點第1位\n",
    "            nums += [rnum]                        # 將隨機數 rnum 加入 nums，nums 長度 < n 仍為 true 時，\n",
    "                                                  # while 迴圈繼續\n",
    "        return nums                               # 當 nums 長度 < n 為 false 時，回傳 nums，結束迴圈\n",
    "    ds_unfiltered = num_generator(n)              # 定義沒篩過的 ds = num_generator的結果，也就是回傳值nums\n",
    "    while stat.mean(ds_unfiltered) != 0:          # 兩段篩選，只有剛好兩個都符合時會跳出迴圈\n",
    "        #print(\"*\", ds_unfiltered)                # 不管怎樣每次運算都會用兩次迴圈\n",
    "        ds_unfiltered = num_generator(n)          \n",
    "        #print(\"**\", ds_unfiltered)\n",
    "        while stat.stdev(ds_unfiltered) >= 1:     \n",
    "           # print(\"3\", ds_unfiltered)\n",
    "            ds_unfiltered = num_generator(n)\n",
    "           # print(\"4\", ds_unfiltered)\n",
    "    ds_filtered = ds_unfiltered\n",
    "    \n",
    "    return ds_filtered\n",
    "ds = list_generator(3)\n",
    "print(\"data set = \", ds, sep = '\\n')\n",
    "\n",
    "'''i = 0\n",
    "n = 10000\n",
    "while i < n:\n",
    "    ds = num_filter(3)\n",
    "    print(\"data set = \", ds, sep = '\\n')\n",
    "    if stat.mean(ds) != 0:\n",
    "        print(\"mean= \", stat.mean(ds), sep = '\\n')\n",
    "    if stat.stdev(ds) >= 1:\n",
    "        print(\"stdev= \", stat.stdev(ds), sep = '\\n')\n",
    "    i += 1\n",
    "te = time.time()\n",
    "print(\"總共花 %f s, 平均 =\" %(te-ts), (te-ts)/n)'''"
   ]
  },
  {
   "cell_type": "markdown",
   "metadata": {},
   "source": [
    "### test 2\n",
    "加入if mean == 0 時才進入 stdev 迴圈，計算時間為0.5倍\n",
    "\n",
    "-2~1, 小數點第1位\n",
    "\n",
    "取得10000組隨機數的時間 = 219.62\n",
    "\n",
    "平均時間 = 0.0220"
   ]
  },
  {
   "cell_type": "code",
   "execution_count": 11,
   "metadata": {},
   "outputs": [
    {
     "name": "stdout",
     "output_type": "stream",
     "text": [
      "data set = \n",
      "[0.4, -0.9, 0.5]\n"
     ]
    },
    {
     "data": {
      "text/plain": [
       "'i = 0\\nn = 10000\\nwhile i < n:\\n    ds = num_filter(3)\\n    print(\"data set = \", ds, sep = \\'\\n\\')\\n    if stat.mean(ds) != 0:\\n        print(\"mean= \", stat.mean(ds), sep = \\'\\n\\')\\n    if stat.stdev(ds) >= 1:\\n        print(\"stdev= \", stat.stdev(ds), sep = \\'\\n\\')\\n    i += 1\\nte = time.time()\\nprint(\"總共花 %f s, 平均 =\" %(te-ts), (te-ts)/n)'"
      ]
     },
     "execution_count": 11,
     "metadata": {},
     "output_type": "execute_result"
    }
   ],
   "source": [
    "import statistics as stat\n",
    "import random\n",
    "import time\n",
    "#ts = time.time()\n",
    "def list_generator(n):\n",
    "    def num_generator(n):                         # 定義公式 num_generator，用來產生含有n個元素的隨機list\n",
    "        nums = []                                 # 定義一個空list: nums\n",
    "        while len(nums) < n:                      # 當list的長度 < n 為 true 時\n",
    "            rnum = round(random.uniform(-2, 1), 1) # 產生一個隨機數 rnum，範圍為 -2 ~ 1\n",
    "                                                  # 四捨五入致小數點第1位\n",
    "            nums += [rnum]                        # 將隨機數 rnum 加入 nums，nums 長度 < n 仍為 true 時，\n",
    "                                                  # while 迴圈繼續\n",
    "        return nums                               # 當 nums 長度 < n 為 false 時，回傳 nums，結束迴圈\n",
    "    ds_unfiltered = num_generator(n)              # 定義沒篩過的 ds = num_generator的結果，也就是回傳值nums\n",
    "    while stat.mean(ds_unfiltered) != 0:          # true 迴圈開始         \n",
    "        ds_unfiltered = num_generator(n)          # 產生新的直到 mean != 0 false ，也就是 mean == 0跳出迴圈\n",
    "        if stat.mean(ds_unfiltered) == 0:         # 只有當mean == 0 時進入下一層迴圈，否則迴圈繼續(跟while結束再開始一層差在哪?)\n",
    "            while stat.stdev(ds_unfiltered) >= 1: # 當 stdev >= 1 true，\n",
    "                ds_unfiltered = num_generator(n)  # 產生新的，直到 stdev >= 1 false，也就是stdev < 1 跳出迴圈\n",
    "                                                  # 跳出內層迴圈後，檢查 mean != 0 是否true，true 重新開始外層迴圈\n",
    "                                                  # false 獲得同時滿足兩個條件的隨機數list\n",
    "    \n",
    "    ds_filtered = ds_unfiltered\n",
    "    \n",
    "    return ds_filtered\n",
    "ds = list_generator(3)\n",
    "print(\"data set = \", ds, sep = '\\n')\n",
    "\n",
    "'''i = 0\n",
    "n = 10000\n",
    "while i < n:\n",
    "    ds = num_filter(3)\n",
    "    print(\"data set = \", ds, sep = '\\n')\n",
    "    if stat.mean(ds) != 0:\n",
    "        print(\"mean= \", stat.mean(ds), sep = '\\n')\n",
    "    if stat.stdev(ds) >= 1:\n",
    "        print(\"stdev= \", stat.stdev(ds), sep = '\\n')\n",
    "    i += 1\n",
    "te = time.time()\n",
    "print(\"總共花 %f s, 平均 =\" %(te-ts), (te-ts)/n)'''"
   ]
  },
  {
   "cell_type": "markdown",
   "metadata": {},
   "source": [
    "### test 3\n",
    "使用if continue 選擇進入下層的條件，計算時間與使用if 差不多\n",
    "\n",
    "如果不給定條件，當外層 while == true 跳出後開始下一條件計算，能一次滿足一個條件，所以必須使用內層\n",
    "\n",
    "-2~1, 小數點第1位\n",
    "\n",
    "取得10000組隨機數的時間 =  218.47\n",
    "\n",
    "平均時間 = 0.0218"
   ]
  },
  {
   "cell_type": "code",
   "execution_count": 12,
   "metadata": {},
   "outputs": [
    {
     "name": "stdout",
     "output_type": "stream",
     "text": [
      "data set = \n",
      "[0.0, -0.5, 0.5]\n"
     ]
    },
    {
     "data": {
      "text/plain": [
       "'i = 0\\nn = 10000\\nwhile i < n:\\n    ds = num_filter(3)\\n    print(\"data set = \", ds, sep = \\'\\n\\')\\n    if stat.mean(ds) != 0:\\n        print(\"mean= \", stat.mean(ds), sep = \\'\\n\\')\\n    if stat.stdev(ds) >= 1:\\n        print(\"stdev= \", stat.stdev(ds), sep = \\'\\n\\')\\n    i += 1\\nte = time.time()\\nprint(\"總共花 %f s, 平均 =\" %(te-ts), (te-ts)/n)'"
      ]
     },
     "execution_count": 12,
     "metadata": {},
     "output_type": "execute_result"
    }
   ],
   "source": [
    "import statistics as stat\n",
    "import random\n",
    "import time\n",
    "#ts = time.time()\n",
    "def list_generator(n):\n",
    "    def num_generator(n):                         # 定義公式 num_generator，用來產生含有n個元素的隨機list\n",
    "        nums = []                                 # 定義一個空list: nums\n",
    "        while len(nums) < n:                      # 當list的長度 < n 為 true 時\n",
    "            rnum = round(random.uniform(-2, 1), 1) # 產生一個隨機數 rnum，範圍為 -2 ~ 1\n",
    "                                                  # 四捨五入至小數點第1位\n",
    "            nums += [rnum]                        # 將隨機數 rnum 加入 nums，nums 長度 < n 仍為 true 時，\n",
    "                                                  # while 迴圈繼續\n",
    "        return nums                               # 當 nums 長度 < n 為 false 時，回傳 nums，結束迴圈\n",
    "    ds_unfiltered = num_generator(n)              # 定義沒篩過的 ds = num_generator的結果，也就是回傳值nums\n",
    "    \n",
    "    \n",
    "    while stat.mean(ds_unfiltered) != 0:          # true 迴圈開始         \n",
    "        ds_unfiltered = num_generator(n)          # 產生新的直到 mean != 0 false ，也就是 mean == 0跳出迴圈\n",
    "        if stat.mean(ds_unfiltered) != 0:         # 當mean != 0 時不進入下一層迴圈\n",
    "            continue\n",
    "        while stat.stdev(ds_unfiltered) >= 1:     # 當 stdev >= 1 true，\n",
    "            ds_unfiltered = num_generator(n)      # 產生新的，直到 stdev >= 1 false，也就是stdev < 1 跳出迴圈\n",
    "                                                  # 跳出內層迴圈後，檢查 mean != 0 是否true，true 重新開始外層迴圈\n",
    "                                                  # false 獲得同時滿足兩個條件的隨機數list\n",
    "    \n",
    "\n",
    "    \n",
    "    ds_filtered = ds_unfiltered\n",
    "    \n",
    "    return ds_filtered\n",
    "ds = list_generator(3)\n",
    "print(\"data set = \", ds, sep = '\\n')\n",
    "'''i = 0\n",
    "n = 10000\n",
    "while i < n:\n",
    "    ds = num_filter(3)\n",
    "    print(\"data set = \", ds, sep = '\\n')\n",
    "    if stat.mean(ds) != 0:\n",
    "        print(\"mean= \", stat.mean(ds), sep = '\\n')\n",
    "    if stat.stdev(ds) >= 1:\n",
    "        print(\"stdev= \", stat.stdev(ds), sep = '\\n')\n",
    "    i += 1\n",
    "te = time.time()\n",
    "print(\"總共花 %f s, 平均 =\" %(te-ts), (te-ts)/n)'''\n"
   ]
  },
  {
   "cell_type": "markdown",
   "metadata": {},
   "source": [
    "### test 4\n",
    "思考決策:\n",
    "1. 必須要考慮到四種狀況\n",
    "2. 盡可能簡化迴圈\n",
    "\n",
    "    第一迴圈 考慮 mean != 0\n",
    "        check if mean !=0 ?\n",
    "            true\n",
    "                new\n",
    "            recheck \n",
    "                mean still >= 1\n",
    "                    new again    \n",
    "                stdev < 1\n",
    "                    check if mean != 0? \n",
    "                        true\n",
    "                            new\n",
    "                        recheck\n",
    "                            mean still != 0\n",
    "                                new again\n",
    "                            mean == 0\n",
    "                                check if stdev >= 1? (back to 4th line)\n",
    "            false\n",
    "    第一迴圈結束\n",
    "        運行到這裡，mean必定 == 0 \n",
    "        包含:\n",
    "            1. 經過第一迴圈符合雙條件的\n",
    "            2. 原本就 mean == 0 的\n",
    "    第二迴圈 考慮 stdev >= 1\n",
    "        check if stdev >=1?\n",
    "            true\n",
    "                new\n",
    "            recheck \n",
    "                stdev still >= 1\n",
    "                    new again    \n",
    "                stdev < 1\n",
    "                    check if mean != 0? \n",
    "                        true\n",
    "                            new\n",
    "                        recheck\n",
    "                            mean still != 0\n",
    "                                new again\n",
    "                            mean == 0\n",
    "                                check if stdev >= 1? (back to 22th line)\n",
    "            false\n",
    "    第二回圈結束\n",
    "        運行到這裡，必定 mean == 0, stdev < 1\n",
    "        輸出答案\n",
    "        \n",
    "雙條件判斷，不再有mean == 0 直接輸出的問題\n",
    "\n",
    "-2~1, 小數點第1位\n",
    "\n",
    "取得10000組隨機數的時間 =  213.88\n",
    "\n",
    "平均時間 = 0.0214"
   ]
  },
  {
   "cell_type": "code",
   "execution_count": 13,
   "metadata": {},
   "outputs": [
    {
     "name": "stdout",
     "output_type": "stream",
     "text": [
      "data set = \n",
      "[-0.5, 0.3, 0.2]\n"
     ]
    },
    {
     "data": {
      "text/plain": [
       "'i = 0\\nn = 10000\\nwhile i < n:\\n    ds = num_filter(3)\\n    print(\"data set = \", ds, sep = \\'\\n\\')\\n    if stat.mean(ds) != 0:\\n        print(\"mean= \", stat.mean(ds), sep = \\'\\n\\')\\n    if stat.stdev(ds) >= 1:\\n        print(\"stdev= \", stat.stdev(ds), sep = \\'\\n\\')\\n    i += 1\\nte = time.time()\\nprint(\"總共花 %f s, 平均 =\" %(te-ts), (te-ts)/n)'"
      ]
     },
     "execution_count": 13,
     "metadata": {},
     "output_type": "execute_result"
    }
   ],
   "source": [
    "import statistics as stat\n",
    "import random\n",
    "import time\n",
    "ts = time.time()\n",
    "def list_generator(n):\n",
    "    def num_generator(n):                         # 定義公式 num_generator，用來產生含有n個元素的隨機list\n",
    "        nums = []                                 # 定義一個空list: nums\n",
    "        while len(nums) < n:                      # 當list的長度 < n 為 true 時\n",
    "            rnum = round(random.uniform(-2, 1), 1) # 產生一個隨機數 rnum，範圍為 -2 ~ 1，\n",
    "                                                  # 四捨5入至小數點第1位\n",
    "            nums += [rnum]                        # 將隨機數 rnum 加入 nums，nums 長度 < n 仍為 true 時，\n",
    "                                                  # while 迴圈繼續\n",
    "        return nums                               # 當 nums 長度 < n 為 false 時，回傳 nums，結束迴圈\n",
    "    ds_unfiltered = num_generator(n)              # 定義沒篩過的 ds = num_generator的結果，也就是回傳值nums\n",
    "    \n",
    "    \n",
    "    while stat.mean(ds_unfiltered) != 0:          # true 迴圈開始         \n",
    "        ds_unfiltered = num_generator(n)          # 產生新的直到 mean != 0 false ，也就是 mean == 0跳出迴圈\n",
    "        if stat.mean(ds_unfiltered) != 0:         # 當mean != 0 時不進入下一層迴圈\n",
    "            continue\n",
    "        while stat.stdev(ds_unfiltered) >= 1:     # 當 stdev >= 1 true，\n",
    "            ds_unfiltered = num_generator(n)      # 產生新的，直到 stdev >= 1 false，也就是stdev < 1 跳出迴圈\n",
    "                                                  # 跳出內層迴圈後，檢查 mean != 0 是否true，true 重新開始外層迴圈\n",
    "                                                  # false 獲得同時滿足兩個條件的隨機數list\n",
    "    while stat.stdev(ds_unfiltered) >= 1:\n",
    "        ds_unfiltered = num_generator(n)\n",
    "        if stat.stdev(ds_unfiltered) >= 1:\n",
    "            continue\n",
    "        while stat.mean(ds_unfiltered) != 0:\n",
    "            ds_unfiltered = num_generator(n)\n",
    "    \n",
    "    ds_filtered = ds_unfiltered\n",
    "    return ds_filtered\n",
    "ds = list_generator(3)\n",
    "print(\"data set = \", ds, sep = '\\n')\n",
    "\n",
    "'''i = 0\n",
    "n = 10000\n",
    "while i < n:\n",
    "    ds = num_filter(3)\n",
    "    print(\"data set = \", ds, sep = '\\n')\n",
    "    if stat.mean(ds) != 0:\n",
    "        print(\"mean= \", stat.mean(ds), sep = '\\n')\n",
    "    if stat.stdev(ds) >= 1:\n",
    "        print(\"stdev= \", stat.stdev(ds), sep = '\\n')\n",
    "    i += 1\n",
    "te = time.time()\n",
    "print(\"總共花 %f s, 平均 =\" %(te-ts), (te-ts)/n)'''\n"
   ]
  },
  {
   "cell_type": "markdown",
   "metadata": {},
   "source": [
    "### test 5\n",
    "改變 list_generator 輸入參數\n",
    "\n",
    "令 隨機數生成區間、隨機數取幾位小數 調整更容易"
   ]
  },
  {
   "cell_type": "code",
   "execution_count": 68,
   "metadata": {},
   "outputs": [
    {
     "name": "stdout",
     "output_type": "stream",
     "text": [
      "data set = \n",
      "[0.4, -0.4, 0.0]\n",
      "mean =\n",
      "0.0\n",
      "stdev = \n",
      "0.4\n"
     ]
    },
    {
     "data": {
      "text/plain": [
       "'i = 0\\nn = 10000\\nwhile i < n:\\n    ds = num_filter(3)\\n    print(\"data set = \", ds, sep = \\'\\n\\')\\n    if stat.mean(ds) != 0:\\n        print(\"mean= \", stat.mean(ds), sep = \\'\\n\\')\\n    if stat.stdev(ds) >= 1:\\n        print(\"stdev= \", stat.stdev(ds), sep = \\'\\n\\')\\n    i += 1\\nte = time.time()\\nprint(\"總共花 %f s, 平均 =\" %(te-ts), (te-ts)/n)'"
      ]
     },
     "execution_count": 68,
     "metadata": {},
     "output_type": "execute_result"
    }
   ],
   "source": [
    "import statistics as stat\n",
    "import random\n",
    "import time\n",
    "ts = time.time()\n",
    "def list_generator(list_len, interval_min, interval_max, float_digits):\n",
    "    def num_generator(list_len, interval_min, interval_max, float_digits):\n",
    "                                                  # 定義公式 num_generator，用來產生含有n個元素的隨機list\n",
    "        nums = []                                 # 定義一個空list: nums\n",
    "        while len(nums) < list_len:               # 當list的長度 < list_len 為 true 時\n",
    "            rnum = round(random.uniform(interval_min, interval_max), float_digits) \n",
    "                                                  # 產生一個隨機數 rnum，範圍為 interval_min ~ interval_max\n",
    "                                                  # 四捨五入至小數點第 float_digits 位\n",
    "            nums += [rnum]                        # 將隨機數 rnum 加入 nums，nums 長度 < n 仍為 true 時，\n",
    "                                                  # while 迴圈繼續\n",
    "        return nums                               # 當 nums 長度 < list_len 為 false 時，回傳 nums，結束迴圈\n",
    "    ds_unfiltered = num_generator(list_len, interval_min, interval_max, float_digits)      \n",
    "                                                  # 定義沒篩過的 ds = list_generator的結果，也就是回傳值nums\n",
    "    \n",
    "    \n",
    "    while stat.mean(ds_unfiltered) != 0:          # true 迴圈開始         \n",
    "        ds_unfiltered = num_generator(list_len, interval_min, interval_max, float_digits)\n",
    "                                                  # 產生新的直到 mean != 0 false ，也就是 mean == 0跳出迴圈\n",
    "        if stat.mean(ds_unfiltered) != 0:         # 當mean != 0 時不進入下一層迴圈\n",
    "            continue\n",
    "        while stat.stdev(ds_unfiltered) >= 1:     # 當 stdev >= 1 true，\n",
    "            ds_unfiltered = num_generator(list_len, interval_min, interval_max, float_digits)\n",
    "                                                  # 產生新的，直到 stdev >= 1 false，也就是stdev < 1 跳出迴圈\n",
    "                                                  # 跳出內層迴圈後，檢查 mean != 0 是否true，true 重新開始外層迴圈\n",
    "                                                  # false 獲得同時滿足兩個條件的隨機數list\n",
    "    while stat.stdev(ds_unfiltered) >= 1:\n",
    "        ds_unfiltered = num_generatorr(list_len, interval_min, interval_max, float_digits)\n",
    "        if stat.stdev(ds_unfiltered) >= 1:\n",
    "            continue\n",
    "        while stat.mean(ds_unfiltered) != 0:\n",
    "            ds_unfiltered = num_generator(list_len, interval_min, interval_max, float_digits)\n",
    "    \n",
    "    ds_filtered = ds_unfiltered\n",
    "    return ds_filtered\n",
    "ds = list_generator(3, -1, 1, 1)\n",
    "print(\"data set = \", ds,\"mean =\", stat.mean(ds), \"stdev = \", stat.stdev(ds), sep = '\\n')\n",
    "\n",
    "'''i = 0\n",
    "n = 10000\n",
    "while i < n:\n",
    "    ds = num_filter(3)\n",
    "    print(\"data set = \", ds, sep = '\\n')\n",
    "    if stat.mean(ds) != 0:\n",
    "        print(\"mean= \", stat.mean(ds), sep = '\\n')\n",
    "    if stat.stdev(ds) >= 1:\n",
    "        print(\"stdev= \", stat.stdev(ds), sep = '\\n')\n",
    "    i += 1\n",
    "te = time.time()\n",
    "print(\"總共花 %f s, 平均 =\" %(te-ts), (te-ts)/n)'''\n"
   ]
  },
  {
   "cell_type": "code",
   "execution_count": null,
   "metadata": {},
   "outputs": [],
   "source": []
  }
 ],
 "metadata": {
  "kernelspec": {
   "display_name": "EETAIA",
   "language": "python",
   "name": "eetaia"
  },
  "language_info": {
   "codemirror_mode": {
    "name": "ipython",
    "version": 3
   },
   "file_extension": ".py",
   "mimetype": "text/x-python",
   "name": "python",
   "nbconvert_exporter": "python",
   "pygments_lexer": "ipython3",
   "version": "3.7.3"
  }
 },
 "nbformat": 4,
 "nbformat_minor": 2
}
