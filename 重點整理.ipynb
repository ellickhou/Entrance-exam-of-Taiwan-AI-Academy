{
 "cells": [
  {
   "cell_type": "markdown",
   "metadata": {
    "toc": true
   },
   "source": [
    "<h1>Table of Contents<span class=\"tocSkip\"></span></h1>\n",
    "<div class=\"toc\"><ul class=\"toc-item\"><li><span><a href=\"#Calculus\" data-toc-modified-id=\"Calculus-1\"><span class=\"toc-item-num\">1&nbsp;&nbsp;</span>Calculus</a></span><ul class=\"toc-item\"><li><span><a href=\"#微分找極值\" data-toc-modified-id=\"微分找極值-1.1\"><span class=\"toc-item-num\">1.1&nbsp;&nbsp;</span>微分找極值</a></span></li><li><span><a href=\"#L’Hôpital’s-Rule\" data-toc-modified-id=\"L’Hôpital’s-Rule-1.2\"><span class=\"toc-item-num\">1.2&nbsp;&nbsp;</span>L’Hôpital’s Rule</a></span></li><li><span><a href=\"#偏微分\" data-toc-modified-id=\"偏微分-1.3\"><span class=\"toc-item-num\">1.3&nbsp;&nbsp;</span>偏微分</a></span></li><li><span><a href=\"#Chain-Rule\" data-toc-modified-id=\"Chain-Rule-1.4\"><span class=\"toc-item-num\">1.4&nbsp;&nbsp;</span>Chain Rule</a></span></li></ul></li><li><span><a href=\"#Linear-Algebra\" data-toc-modified-id=\"Linear-Algebra-2\"><span class=\"toc-item-num\">2&nbsp;&nbsp;</span>Linear Algebra</a></span><ul class=\"toc-item\"><li><span><a href=\"#eigenvalue,-eigenvector\" data-toc-modified-id=\"eigenvalue,-eigenvector-2.1\"><span class=\"toc-item-num\">2.1&nbsp;&nbsp;</span>eigenvalue, eigenvector</a></span></li><li><span><a href=\"#線性方程式\" data-toc-modified-id=\"線性方程式-2.2\"><span class=\"toc-item-num\">2.2&nbsp;&nbsp;</span>線性方程式</a></span></li><li><span><a href=\"#矩陣性質\" data-toc-modified-id=\"矩陣性質-2.3\"><span class=\"toc-item-num\">2.3&nbsp;&nbsp;</span>矩陣性質</a></span></li><li><span><a href=\"#矩陣運算\" data-toc-modified-id=\"矩陣運算-2.4\"><span class=\"toc-item-num\">2.4&nbsp;&nbsp;</span>矩陣運算</a></span></li></ul></li><li><span><a href=\"#Statistics\" data-toc-modified-id=\"Statistics-3\"><span class=\"toc-item-num\">3&nbsp;&nbsp;</span>Statistics</a></span><ul class=\"toc-item\"><li><span><a href=\"#mean\" data-toc-modified-id=\"mean-3.1\"><span class=\"toc-item-num\">3.1&nbsp;&nbsp;</span>mean</a></span></li><li><span><a href=\"#median\" data-toc-modified-id=\"median-3.2\"><span class=\"toc-item-num\">3.2&nbsp;&nbsp;</span>median</a></span></li><li><span><a href=\"#mode\" data-toc-modified-id=\"mode-3.3\"><span class=\"toc-item-num\">3.3&nbsp;&nbsp;</span>mode</a></span></li><li><span><a href=\"#Range\" data-toc-modified-id=\"Range-3.4\"><span class=\"toc-item-num\">3.4&nbsp;&nbsp;</span>Range</a></span></li><li><span><a href=\"#Variance-and-Standard-Deviation\" data-toc-modified-id=\"Variance-and-Standard-Deviation-3.5\"><span class=\"toc-item-num\">3.5&nbsp;&nbsp;</span>Variance and Standard Deviation</a></span></li><li><span><a href=\"#coefficient-of-variation\" data-toc-modified-id=\"coefficient-of-variation-3.6\"><span class=\"toc-item-num\">3.6&nbsp;&nbsp;</span>coefficient of variation</a></span></li><li><span><a href=\"#interquartile-range\" data-toc-modified-id=\"interquartile-range-3.7\"><span class=\"toc-item-num\">3.7&nbsp;&nbsp;</span>interquartile range</a></span></li><li><span><a href=\"#機率\" data-toc-modified-id=\"機率-3.8\"><span class=\"toc-item-num\">3.8&nbsp;&nbsp;</span>機率</a></span></li></ul></li><li><span><a href=\"#Code\" data-toc-modified-id=\"Code-4\"><span class=\"toc-item-num\">4&nbsp;&nbsp;</span>Code</a></span><ul class=\"toc-item\"><li><span><a href=\"#排列組合\" data-toc-modified-id=\"排列組合-4.1\"><span class=\"toc-item-num\">4.1&nbsp;&nbsp;</span>排列組合</a></span></li><li><span><a href=\"#Fibonacci-Number\" data-toc-modified-id=\"Fibonacci-Number-4.2\"><span class=\"toc-item-num\">4.2&nbsp;&nbsp;</span>Fibonacci Number</a></span></li><li><span><a href=\"#找最大值，偽代碼\" data-toc-modified-id=\"找最大值，偽代碼-4.3\"><span class=\"toc-item-num\">4.3&nbsp;&nbsp;</span>找最大值，偽代碼</a></span></li><li><span><a href=\"#palindrome，偽代碼\" data-toc-modified-id=\"palindrome，偽代碼-4.4\"><span class=\"toc-item-num\">4.4&nbsp;&nbsp;</span>palindrome，偽代碼</a></span></li><li><span><a href=\"#Fibonacci-Number-SUM，偽代碼\" data-toc-modified-id=\"Fibonacci-Number-SUM，偽代碼-4.5\"><span class=\"toc-item-num\">4.5&nbsp;&nbsp;</span>Fibonacci Number SUM，偽代碼</a></span><ul class=\"toc-item\"><li><span><a href=\"#use-Recursion\" data-toc-modified-id=\"use-Recursion-4.5.1\"><span class=\"toc-item-num\">4.5.1&nbsp;&nbsp;</span>use Recursion</a></span></li></ul></li></ul></li></ul></div>"
   ]
  },
  {
   "cell_type": "markdown",
   "metadata": {},
   "source": [
    "## Calculus"
   ]
  },
  {
   "cell_type": "markdown",
   "metadata": {},
   "source": [
    "### 微分找極值\n",
    "![tpe-ee1.png](https://raw.githubusercontent.com/ellickhou/Entrance-exam-of-Taiwan-AI-Academy/master/重點整理圖片/tpe-ee1.png)\n"
   ]
  },
  {
   "cell_type": "markdown",
   "metadata": {},
   "source": [
    "- ans: 48\n",
    "1. sin(bx)/x = b, sin(cx) = c\n",
    "2. 化簡第一次\n",
    "    - ax + b + c = 48x + 60x^3 + 72x^5\n",
    "    - x -> 0, b + c = 0\n",
    "3. 化簡第二次\n",
    "    - sin(bx) + sin (cx) = 2sin((b+c)x/2)cos((b-c)x/2)\n",
    "    - b+c = 0, sin(0) = 0\n",
    "    - sin(bx) + sin (cx) = 0\n",
    "4. 原本方程式變成\n",
    "    - ax^2 = 48x^2 + 60x^4 + 72x^6\n",
    "    - a = 48 + 60x^2 + 72x^4\n",
    "    - x -> 0, a = 48\n",
    "5. a= 48, b+c= 0\n",
    "    - a+b+c = 48"
   ]
  },
  {
   "cell_type": "markdown",
   "metadata": {},
   "source": [
    "### L’Hôpital’s Rule\n",
    "![tpe-ee2.png](https://raw.githubusercontent.com/ellickhou/Entrance-exam-of-Taiwan-AI-Academy/master/重點整理圖片/tpe-ee2.png)"
   ]
  },
  {
   "cell_type": "markdown",
   "metadata": {},
   "source": [
    "- L’Hôpital’s Rule\n",
    "![tpe-ee2-1.png](https://raw.githubusercontent.com/ellickhou/Entrance-exam-of-Taiwan-AI-Academy/master/重點整理圖片/tpe-ee2-1.png)\n",
    "- f(2+3x) + f(2+5x)/x = 3f'(2+3x) + 5f'(2+5x) /1\n",
    "    - x -> 0, f'(2) = 7\n",
    "    - 3 * 7 + 5 * 7 = 56 \n"
   ]
  },
  {
   "cell_type": "code",
   "execution_count": 1,
   "metadata": {},
   "outputs": [
    {
     "data": {
      "text/latex": [
       "$\\displaystyle 3$"
      ],
      "text/plain": [
       "3"
      ]
     },
     "execution_count": 1,
     "metadata": {},
     "output_type": "execute_result"
    }
   ],
   "source": [
    "import sympy\n",
    "from sympy import limit, Symbol, sin, cos, oo\n",
    "from sympy import *\n",
    "x,a,b,c = symbols('x a b c')\n",
    "diff(2+3*x)"
   ]
  },
  {
   "cell_type": "markdown",
   "metadata": {},
   "source": [
    "### 偏微分\n",
    "![tpe-ee3.png](https://raw.githubusercontent.com/ellickhou/Entrance-exam-of-Taiwan-AI-Academy/master/重點整理圖片/tpe-ee3.png)"
   ]
  },
  {
   "cell_type": "code",
   "execution_count": 2,
   "metadata": {},
   "outputs": [
    {
     "name": "stdout",
     "output_type": "stream",
     "text": [
      "2*x\n",
      "-2*y\n"
     ]
    }
   ],
   "source": [
    "import sympy\n",
    "from sympy import limit, Symbol, sin, cos, oo\n",
    "from sympy import *\n",
    "x,y = symbols('x y')\n",
    "print(diff(x**2 - y **2, x))\n",
    "print(diff(x**2 - y **2, y))"
   ]
  },
  {
   "cell_type": "markdown",
   "metadata": {},
   "source": [
    "### Chain Rule\n",
    "- f(x) = (2x + 1)^3\n",
    "    - let g(x) = 2x+1\n",
    "    - f'(x) = f'(g(x)) * g'(x)\n",
    "    - = 3 * (2x + 1)^2 * (2)\n",
    "    - = 6(2𝑥+1)^2\n",
    "- h′(x) = df/du * du/dx\n",
    "    - u = (2x + 1)\n",
    "    - df/du * du/dx = 3u^2 * 2\n",
    "    - = 3(2x + 1)^2 * 2 = 6(2x + 1)^2"
   ]
  },
  {
   "cell_type": "code",
   "execution_count": 3,
   "metadata": {},
   "outputs": [
    {
     "data": {
      "text/latex": [
       "$\\displaystyle 6 \\left(2 x + 1\\right)^{2}$"
      ],
      "text/plain": [
       "6*(2*x + 1)**2"
      ]
     },
     "execution_count": 3,
     "metadata": {},
     "output_type": "execute_result"
    }
   ],
   "source": [
    "from sympy import *\n",
    "x, y = symbols('x y') # r (radius), t (angle theta)\n",
    "f = symbols('f', cls=Function)\n",
    "f = (2*x + 1)**3\n",
    "Derivative(f,x, 1).doit()"
   ]
  },
  {
   "cell_type": "markdown",
   "metadata": {},
   "source": [
    "## Linear Algebra"
   ]
  },
  {
   "cell_type": "markdown",
   "metadata": {},
   "source": [
    "### eigenvalue, eigenvector\n",
    "![tpe-ee2.png](https://raw.githubusercontent.com/ellickhou/Entrance-exam-of-Taiwan-AI-Academy/master/重點整理圖片/tpe-ee4.png)\n",
    "- (A - 入 I) X ＝ 0\n",
    "- 求入，先用det，解方程式"
   ]
  },
  {
   "cell_type": "code",
   "execution_count": 4,
   "metadata": {},
   "outputs": [
    {
     "name": "stdout",
     "output_type": "stream",
     "text": [
      "[[3 4 2]\n",
      " [0 5 7]\n",
      " [0 0 1]]\n",
      "15.0\n",
      "[3. 5. 1.]\n",
      "[[ 1.          0.89442719  0.77849894]\n",
      " [ 0.          0.4472136  -0.54494926]\n",
      " [ 0.          0.          0.31139958]]\n"
     ]
    }
   ],
   "source": [
    "import numpy as np\n",
    "A = np.array([[3, 4, 2], [0, 5, 7], [0, 0, 1]])\n",
    "det_ = np.linalg.det(A)\n",
    "evl, evc = np.linalg.eig(A)\n",
    "print(A, det_, sep = '\\n')\n",
    "print(evl, evc ,sep = '\\n')"
   ]
  },
  {
   "cell_type": "markdown",
   "metadata": {},
   "source": [
    "### 線性方程式\n",
    "![tpe-ee5.png](https://raw.githubusercontent.com/ellickhou/Entrance-exam-of-Taiwan-AI-Academy/master/重點整理圖片/tpe-ee5.png)"
   ]
  },
  {
   "cell_type": "markdown",
   "metadata": {},
   "source": [
    "- 帶入法硬解，記得開根號"
   ]
  },
  {
   "cell_type": "markdown",
   "metadata": {},
   "source": [
    "### 矩陣性質\n",
    "![tpe-ee6.png](https://raw.githubusercontent.com/ellickhou/Entrance-exam-of-Taiwan-AI-Academy/master/重點整理圖片/tpe-ee6.png)"
   ]
  },
  {
   "cell_type": "markdown",
   "metadata": {},
   "source": [
    "- 正交，內積為0，線性獨立"
   ]
  },
  {
   "cell_type": "code",
   "execution_count": 5,
   "metadata": {},
   "outputs": [
    {
     "name": "stdout",
     "output_type": "stream",
     "text": [
      "[[4 2 0 0]\n",
      " [2 4 0 0]\n",
      " [0 0 4 2]\n",
      " [0 0 2 4]]\n",
      "144.0\n",
      "[6. 2. 6. 2.]\n",
      "[[ 0.70710678 -0.70710678  0.          0.        ]\n",
      " [ 0.70710678  0.70710678  0.          0.        ]\n",
      " [ 0.          0.          0.70710678 -0.70710678]\n",
      " [ 0.          0.          0.70710678  0.70710678]]\n"
     ]
    }
   ],
   "source": [
    "import numpy as np\n",
    "A = np.array([[4, 2, 0, 0], [2, 4, 0,0], [0, 0, 4, 2], [0,0,2,4]])\n",
    "# 行列式\n",
    "det_ = np.linalg.det(A)\n",
    "# eigenvalue, eigenvector\n",
    "evl, evc = np.linalg.eig(A)\n",
    "print(A, det_, sep = '\\n')\n",
    "print(evl, evc ,sep = '\\n')"
   ]
  },
  {
   "cell_type": "markdown",
   "metadata": {},
   "source": [
    "### 矩陣運算"
   ]
  },
  {
   "cell_type": "code",
   "execution_count": 6,
   "metadata": {},
   "outputs": [],
   "source": [
    "A = np.array([[1,3],\n",
    "                   [2,4]])\n",
    "B = np.array([[1,3],\n",
    "                   [2,4]])\n",
    "#內積\n",
    "dotAB = A.dot(B)\n",
    "C = np.mat('1,2,3; \\\n",
    "                 5,5,5 ; \\\n",
    "                 7,8,9 ')\n",
    "#反矩陣\n",
    "revC = C.I\n",
    "#轉置矩陣\n",
    "tranA = A.T\n",
    "\n",
    "# 相似矩陣\n",
    "#T_similar = P*T*P.I"
   ]
  },
  {
   "cell_type": "markdown",
   "metadata": {},
   "source": [
    "## Statistics"
   ]
  },
  {
   "cell_type": "markdown",
   "metadata": {},
   "source": [
    "### mean\n",
    "- sample mean of a set of n sample data\n",
    "    - mean_x = sum(x)/n\n",
    "-  population mean of a set of N population data\n",
    "    - μ =  sum(x)/n"
   ]
  },
  {
   "cell_type": "markdown",
   "metadata": {},
   "source": [
    "###  median\n",
    "- For a set has odd number of sample data:\n",
    "    - The middle sample data\n",
    "- For a set has even number of sample data:\n",
    "    - The mean of the tow middle sample data"
   ]
  },
  {
   "cell_type": "markdown",
   "metadata": {},
   "source": [
    "### mode\n",
    "- the value that appears most often"
   ]
  },
  {
   "cell_type": "code",
   "execution_count": 7,
   "metadata": {},
   "outputs": [
    {
     "ename": "StatisticsError",
     "evalue": "mean requires at least one data point",
     "output_type": "error",
     "traceback": [
      "\u001b[0;31m---------------------------------------------------------------------------\u001b[0m",
      "\u001b[0;31mStatisticsError\u001b[0m                           Traceback (most recent call last)",
      "\u001b[0;32m<ipython-input-7-a2cf36de8996>\u001b[0m in \u001b[0;36m<module>\u001b[0;34m\u001b[0m\n\u001b[1;32m      1\u001b[0m \u001b[0;32mimport\u001b[0m \u001b[0mstatistics\u001b[0m \u001b[0;32mas\u001b[0m \u001b[0mstat\u001b[0m\u001b[0;34m\u001b[0m\u001b[0;34m\u001b[0m\u001b[0m\n\u001b[1;32m      2\u001b[0m \u001b[0mds\u001b[0m \u001b[0;34m=\u001b[0m \u001b[0;34m[\u001b[0m\u001b[0;34m]\u001b[0m\u001b[0;34m\u001b[0m\u001b[0;34m\u001b[0m\u001b[0m\n\u001b[0;32m----> 3\u001b[0;31m \u001b[0ma1\u001b[0m \u001b[0;34m=\u001b[0m \u001b[0mstat\u001b[0m\u001b[0;34m.\u001b[0m\u001b[0mmean\u001b[0m\u001b[0;34m(\u001b[0m\u001b[0mds\u001b[0m\u001b[0;34m)\u001b[0m\u001b[0;34m\u001b[0m\u001b[0;34m\u001b[0m\u001b[0m\n\u001b[0m\u001b[1;32m      4\u001b[0m \u001b[0ma2\u001b[0m \u001b[0;34m=\u001b[0m \u001b[0mstat\u001b[0m\u001b[0;34m.\u001b[0m\u001b[0mmedian\u001b[0m\u001b[0;34m(\u001b[0m\u001b[0mds\u001b[0m\u001b[0;34m)\u001b[0m\u001b[0;34m\u001b[0m\u001b[0;34m\u001b[0m\u001b[0m\n\u001b[1;32m      5\u001b[0m \u001b[0ma3\u001b[0m \u001b[0;34m=\u001b[0m \u001b[0mstat\u001b[0m\u001b[0;34m.\u001b[0m\u001b[0mmode\u001b[0m\u001b[0;34m(\u001b[0m\u001b[0mds\u001b[0m\u001b[0;34m)\u001b[0m\u001b[0;34m\u001b[0m\u001b[0;34m\u001b[0m\u001b[0m\n",
      "\u001b[0;32m~/anaconda3/envs/eetaia/lib/python3.7/statistics.py\u001b[0m in \u001b[0;36mmean\u001b[0;34m(data)\u001b[0m\n\u001b[1;32m    308\u001b[0m     \u001b[0mn\u001b[0m \u001b[0;34m=\u001b[0m \u001b[0mlen\u001b[0m\u001b[0;34m(\u001b[0m\u001b[0mdata\u001b[0m\u001b[0;34m)\u001b[0m\u001b[0;34m\u001b[0m\u001b[0;34m\u001b[0m\u001b[0m\n\u001b[1;32m    309\u001b[0m     \u001b[0;32mif\u001b[0m \u001b[0mn\u001b[0m \u001b[0;34m<\u001b[0m \u001b[0;36m1\u001b[0m\u001b[0;34m:\u001b[0m\u001b[0;34m\u001b[0m\u001b[0;34m\u001b[0m\u001b[0m\n\u001b[0;32m--> 310\u001b[0;31m         \u001b[0;32mraise\u001b[0m \u001b[0mStatisticsError\u001b[0m\u001b[0;34m(\u001b[0m\u001b[0;34m'mean requires at least one data point'\u001b[0m\u001b[0;34m)\u001b[0m\u001b[0;34m\u001b[0m\u001b[0;34m\u001b[0m\u001b[0m\n\u001b[0m\u001b[1;32m    311\u001b[0m     \u001b[0mT\u001b[0m\u001b[0;34m,\u001b[0m \u001b[0mtotal\u001b[0m\u001b[0;34m,\u001b[0m \u001b[0mcount\u001b[0m \u001b[0;34m=\u001b[0m \u001b[0m_sum\u001b[0m\u001b[0;34m(\u001b[0m\u001b[0mdata\u001b[0m\u001b[0;34m)\u001b[0m\u001b[0;34m\u001b[0m\u001b[0;34m\u001b[0m\u001b[0m\n\u001b[1;32m    312\u001b[0m     \u001b[0;32massert\u001b[0m \u001b[0mcount\u001b[0m \u001b[0;34m==\u001b[0m \u001b[0mn\u001b[0m\u001b[0;34m\u001b[0m\u001b[0;34m\u001b[0m\u001b[0m\n",
      "\u001b[0;31mStatisticsError\u001b[0m: mean requires at least one data point"
     ]
    }
   ],
   "source": [
    "import statistics as stat\n",
    "ds = []\n",
    "a1 = stat.mean(ds)\n",
    "a2 = stat.median(ds)\n",
    "a3 = stat.mode(ds)\n",
    "print(a1, a2, a3, sep = ';')"
   ]
  },
  {
   "cell_type": "markdown",
   "metadata": {},
   "source": [
    "### Range\n",
    "- R = max(x) - min(x)"
   ]
  },
  {
   "cell_type": "code",
   "execution_count": null,
   "metadata": {},
   "outputs": [],
   "source": [
    "ds = [1, 2]\n",
    "R = max(ds) - min (ds)\n",
    "print(R)"
   ]
  },
  {
   "cell_type": "markdown",
   "metadata": {},
   "source": [
    "### Variance and Standard Deviation\n",
    "![tpe-ee7.png](https://raw.githubusercontent.com/ellickhou/Entrance-exam-of-Taiwan-AI-Academy/master/重點整理圖片/tpe-ee7.png)"
   ]
  },
  {
   "cell_type": "code",
   "execution_count": 8,
   "metadata": {},
   "outputs": [
    {
     "name": "stdout",
     "output_type": "stream",
     "text": [
      "variance = 1 ; stdev = 1.0 ; pvariance = 0.6666666666666666 ; pstdev = 0.816496580927726\n"
     ]
    }
   ],
   "source": [
    "import statistics as stat\n",
    "ds = [1,2,3]\n",
    "#Sample variance of data.\n",
    "a1 = stat.variance(ds)\n",
    "#Sample standard deviation of data.\n",
    "a2 = stat.stdev(ds)\n",
    "#Population variance of data.\n",
    "a3 = stat.pvariance(ds)\n",
    "#Population standard deviation of data.\n",
    "a4 = stat.pstdev(ds)\n",
    "print('variance = %s' %a1 , 'stdev = %s' %a2\n",
    "      , 'pvariance = %s' %a3, 'pstdev = %s' %a4, sep = ' ; ')"
   ]
  },
  {
   "cell_type": "markdown",
   "metadata": {},
   "source": [
    "### coefficient of variation"
   ]
  },
  {
   "cell_type": "code",
   "execution_count": 9,
   "metadata": {},
   "outputs": [
    {
     "data": {
      "text/plain": [
       "0.47140452079103173"
      ]
     },
     "execution_count": 9,
     "metadata": {},
     "output_type": "execute_result"
    }
   ],
   "source": [
    "import scipy.stats\n",
    "import numpy as np\n",
    "ds = np.array([1,2,3,4,5])\n",
    "scipy.stats.variation(ds)"
   ]
  },
  {
   "cell_type": "markdown",
   "metadata": {},
   "source": [
    "### interquartile range\n",
    "- Q3 - Q1"
   ]
  },
  {
   "cell_type": "markdown",
   "metadata": {},
   "source": [
    "### 機率\n",
    "![tpe-ee9.png](https://raw.githubusercontent.com/ellickhou/Entrance-exam-of-Taiwan-AI-Academy/master/重點整理圖片/tpe-ee9.png)\n"
   ]
  },
  {
   "cell_type": "markdown",
   "metadata": {},
   "source": [
    "- 獨立事件\n",
    "    - A交集B = ＰＡ ＊ ＰＢ\n",
    "    - "
   ]
  },
  {
   "cell_type": "markdown",
   "metadata": {},
   "source": [
    "## Code"
   ]
  },
  {
   "cell_type": "markdown",
   "metadata": {},
   "source": [
    "### 排列組合\n",
    "![tpe-ee11.png](https://raw.githubusercontent.com/ellickhou/Entrance-exam-of-Taiwan-AI-Academy/master/重點整理圖片/tpe-ee11.png)\n",
    "- ans: E"
   ]
  },
  {
   "cell_type": "code",
   "execution_count": 10,
   "metadata": {},
   "outputs": [
    {
     "name": "stdout",
     "output_type": "stream",
     "text": [
      "9\n",
      "[2, 4, 6, 8, 9, 8, 6, 4, 2]\n",
      "2 2\n",
      "4 4\n",
      "6 6\n",
      "8 8\n"
     ]
    }
   ],
   "source": [
    "ds = [1,3,5,7,9,8,6,4,2]\n",
    "print(len(ds))\n",
    "for i in range(0, len(ds)):\n",
    "    temp = ds[i]\n",
    "    ds[i] = ds[len(ds)-i-1]\n",
    "    ds[len(ds)-i-1] = ds[i]\n",
    "print(ds)\n",
    "\n",
    "for j in range(0,int(len(ds)/2)):\n",
    "    print(ds[j], ds[len(ds)-j-1])"
   ]
  },
  {
   "cell_type": "markdown",
   "metadata": {},
   "source": [
    "### Fibonacci Number\n",
    "![tpe-ee12.png](https://raw.githubusercontent.com/ellickhou/Entrance-exam-of-Taiwan-AI-Academy/master/重點整理圖片/tpe-ee12.png)\n",
    "\n",
    "- ans: C"
   ]
  },
  {
   "cell_type": "code",
   "execution_count": 11,
   "metadata": {},
   "outputs": [
    {
     "name": "stdout",
     "output_type": "stream",
     "text": [
      "1\n",
      "2\n",
      "3\n",
      "5\n"
     ]
    }
   ],
   "source": [
    "a=0\n",
    "b=1\n",
    "N=5\n",
    "temp= 0\n",
    "for i in range(2,N+1):\n",
    "    temp = b\n",
    "    b = a+b\n",
    "    a = temp\n",
    "    print(b)"
   ]
  },
  {
   "cell_type": "markdown",
   "metadata": {},
   "source": [
    "### 找最大值，偽代碼"
   ]
  },
  {
   "cell_type": "markdown",
   "metadata": {},
   "source": [
    "    func find_max(L) -> max_:\n",
    "        # L <- a list\n",
    "        # max_ <- int\n",
    "        max_ <- L[0]\n",
    "        for i in L do\n",
    "            if i > max_ then\n",
    "                    max_ <- i\n",
    "        return max"
   ]
  },
  {
   "cell_type": "code",
   "execution_count": 12,
   "metadata": {
    "code_folding": []
   },
   "outputs": [
    {
     "data": {
      "text/plain": [
       "[88, 88, 132]"
      ]
     },
     "execution_count": 12,
     "metadata": {},
     "output_type": "execute_result"
    }
   ],
   "source": [
    "def find_max(L):\n",
    "    # L <- a array\n",
    "    # max <- array\n",
    "    max1 = L[0]\n",
    "    max2 = L[0]\n",
    "    max3 = L[0]\n",
    "    for i in L:\n",
    "        if i > max1:\n",
    "            max1 = i\n",
    "    L[L.index(max1)] = 0\n",
    "    for j in L:\n",
    "        if j >max2:\n",
    "            max2 = j\n",
    "    L[L.index(max2)] = 0\n",
    "    for k in L:\n",
    "        if k > max3:\n",
    "            max3 = k\n",
    "    array= [max3, max2, max1]\n",
    "    return array\n",
    "\n",
    "ds = [0,9,10,132,88, 10,88,3,4,-100]\n",
    "find_max(ds)"
   ]
  },
  {
   "cell_type": "markdown",
   "metadata": {},
   "source": [
    "### palindrome，偽代碼"
   ]
  },
  {
   "cell_type": "markdown",
   "metadata": {},
   "source": [
    "    func if_palindrome(x) -> y:\n",
    "        # x <- int\n",
    "        # y <- bool\n",
    "        y <- None\n",
    "        if x < 0 then\n",
    "            y <- False\n",
    "            return y\n",
    "        end if\n",
    "        re_x <- 0\n",
    "        temp <- x\n",
    "        while temp >= 1 do\n",
    "           re_x <- re_x*10 + (temp 除10的餘數)\n",
    "           temp <- temp 除10的整數商\n",
    "       end for\n",
    "       if x == re_x then\n",
    "           y = True\n",
    "       else then\n",
    "           y = False\n",
    "       end if\n",
    "       return y\n"
   ]
  },
  {
   "cell_type": "code",
   "execution_count": 13,
   "metadata": {},
   "outputs": [
    {
     "name": "stdout",
     "output_type": "stream",
     "text": [
      "1231 1321\n"
     ]
    },
    {
     "data": {
      "text/plain": [
       "False"
      ]
     },
     "execution_count": 13,
     "metadata": {},
     "output_type": "execute_result"
    }
   ],
   "source": [
    "def if_palindrome(x):\n",
    "    # x <- int\n",
    "    # y <- bool\n",
    "    y = None\n",
    "    if x < 0:\n",
    "        y = False\n",
    "        return y\n",
    "    re_x = 0\n",
    "    temp = x\n",
    "    while temp >= 1:\n",
    "        re_x = re_x*10 + temp %10\n",
    "        temp = temp // 10\n",
    "    if x == re_x:\n",
    "        y = True\n",
    "    else :\n",
    "        y = False\n",
    "    print(x, re_x)\n",
    "    return y\n",
    "\n",
    "if_palindrome(1231)"
   ]
  },
  {
   "cell_type": "markdown",
   "metadata": {},
   "source": [
    "### Fibonacci Number SUM，偽代碼\n",
    "- Hint: try not to use Recursion\n",
    "    - x = x + 10"
   ]
  },
  {
   "cell_type": "markdown",
   "metadata": {},
   "source": [
    "    func fib(N) -> Sum :\n",
    "        # N <- int, N >=2\n",
    "        # Sum <- int\n",
    "        fib_seq <- an list contain[0,1]\n",
    "        for (i = 2 to i = N) do:\n",
    "            fib_seq append ( fib_seq[i-1] + fib_seq [i - 2] )\n",
    "        end for\n",
    "        Sum <- sum of all element in fib_seq\n",
    "        return sum"
   ]
  },
  {
   "cell_type": "code",
   "execution_count": 14,
   "metadata": {},
   "outputs": [
    {
     "data": {
      "text/plain": [
       "([0, 1, 1, 2, 3, 5], 12)"
      ]
     },
     "execution_count": 14,
     "metadata": {},
     "output_type": "execute_result"
    }
   ],
   "source": [
    "def fib(N):\n",
    "    # N <- int, >=2\n",
    "    # Sum <- int\n",
    "    fib_seq = [0,1]\n",
    "    for i in range(2,N+1):\n",
    "        fib_seq.append( fib_seq[i-1] + fib_seq [i - 2] )\n",
    "    Sum = sum(fib_seq)\n",
    "    return fib_seq, Sum\n",
    "\n",
    "fib(5)"
   ]
  },
  {
   "cell_type": "markdown",
   "metadata": {},
   "source": [
    "####  use Recursion\n"
   ]
  },
  {
   "cell_type": "markdown",
   "metadata": {},
   "source": [
    "    func fib(N) -> Sum :\n",
    "        # N <- int, N >=2\n",
    "        # Sum <- int\n",
    "        a <- 0\n",
    "        b <- 1\n",
    "        temp <- 0\n",
    "        Sum <- 0\n",
    "        for (i = 0 to i = N) do:\n",
    "            temp <- b\n",
    "            b <- a + b\n",
    "            a <- temp\n",
    "            Sum = Sum + a\n",
    "        end for\n",
    "        return Sum"
   ]
  },
  {
   "cell_type": "code",
   "execution_count": 15,
   "metadata": {},
   "outputs": [
    {
     "data": {
      "text/plain": [
       "(2, 4)"
      ]
     },
     "execution_count": 15,
     "metadata": {},
     "output_type": "execute_result"
    }
   ],
   "source": [
    "def fib(N):\n",
    "    # N <- int, N >=2\n",
    "    # Sum <- int\n",
    "    a=0\n",
    "    b=1\n",
    "    temp=0\n",
    "    Sum = 0\n",
    "    for i in range(0, N):\n",
    "        temp = b\n",
    "        b = a + b\n",
    "        a = temp\n",
    "        Sum = Sum + a\n",
    "        \n",
    "    return a,Sum\n",
    "fib(3)"
   ]
  },
  {
   "cell_type": "code",
   "execution_count": 16,
   "metadata": {},
   "outputs": [
    {
     "data": {
      "text/plain": [
       "2"
      ]
     },
     "execution_count": 16,
     "metadata": {},
     "output_type": "execute_result"
    }
   ],
   "source": [
    "a = [1,3,9,2,5,8,4,9,6,7]\n",
    "index = 0\n",
    "for i in range(len(a)):\n",
    "    if a[i] > a[index]:\n",
    "        index = i\n",
    "index"
   ]
  },
  {
   "cell_type": "code",
   "execution_count": 17,
   "metadata": {},
   "outputs": [
    {
     "data": {
      "text/plain": [
       "24"
      ]
     },
     "execution_count": 17,
     "metadata": {},
     "output_type": "execute_result"
    }
   ],
   "source": [
    "def function(n):\n",
    "    fac = 1\n",
    "    if n > 0:\n",
    "        fac = n* function(n-1)\n",
    "    return fac\n",
    "function(4)"
   ]
  },
  {
   "cell_type": "code",
   "execution_count": 18,
   "metadata": {},
   "outputs": [
    {
     "name": "stdout",
     "output_type": "stream",
     "text": [
      "[[34]\n",
      " [21]]\n"
     ]
    }
   ],
   "source": [
    "A = np.array([[1,1],[1,0]])\n",
    "F = np.array([[1],[0]])\n",
    "dotA2 = A.dot(A)\n",
    "dotA3 = dotA2.dot(A)\n",
    "dotA4 = dotA3.dot(A)\n",
    "dotA5 = dotA4.dot(A)\n",
    "dotA6 = dotA5.dot(A)\n",
    "dotA7 = dotA6.dot(A)\n",
    "dotA8 = dotA7.dot(A)\n",
    "dotA8F = dotA8.dot(F)\n",
    "print(dotA8F)"
   ]
  },
  {
   "cell_type": "code",
   "execution_count": 19,
   "metadata": {},
   "outputs": [
    {
     "name": "stdout",
     "output_type": "stream",
     "text": [
      "68503.3 3605.436842105263\n"
     ]
    }
   ],
   "source": [
    "a = 3600.7*19 - 4120 + 4210\n",
    "b = a /19\n",
    "print(a,b)"
   ]
  },
  {
   "cell_type": "code",
   "execution_count": 20,
   "metadata": {},
   "outputs": [
    {
     "data": {
      "text/plain": [
       "20274.31578947438"
      ]
     },
     "execution_count": 20,
     "metadata": {},
     "output_type": "execute_result"
    }
   ],
   "source": [
    "a = 3600.7*19 - 4120 + 4210\n",
    "s2 = 14655\n",
    "old = 14655 * 18 + ((3600.7*19)**2/19)\n",
    "Ns2 = ((old - 4120**2 + 4210**2) - a**2/19) /18\n",
    "Ns2"
   ]
  }
 ],
 "metadata": {
  "kernelspec": {
   "display_name": "Python [conda env:eetaia]",
   "language": "python",
   "name": "conda-env-eetaia-py"
  },
  "language_info": {
   "codemirror_mode": {
    "name": "ipython",
    "version": 3
   },
   "file_extension": ".py",
   "mimetype": "text/x-python",
   "name": "python",
   "nbconvert_exporter": "python",
   "pygments_lexer": "ipython3",
   "version": "3.7.4"
  },
  "toc": {
   "base_numbering": 1,
   "nav_menu": {},
   "number_sections": true,
   "sideBar": false,
   "skip_h1_title": true,
   "title_cell": "Table of Contents",
   "title_sidebar": "Contents",
   "toc_cell": true,
   "toc_position": {},
   "toc_section_display": true,
   "toc_window_display": false
  },
  "varInspector": {
   "cols": {
    "lenName": 16,
    "lenType": 16,
    "lenVar": 40
   },
   "kernels_config": {
    "python": {
     "delete_cmd_postfix": "",
     "delete_cmd_prefix": "del ",
     "library": "var_list.py",
     "varRefreshCmd": "print(var_dic_list())"
    },
    "r": {
     "delete_cmd_postfix": ") ",
     "delete_cmd_prefix": "rm(",
     "library": "var_list.r",
     "varRefreshCmd": "cat(var_dic_list()) "
    }
   },
   "types_to_exclude": [
    "module",
    "function",
    "builtin_function_or_method",
    "instance",
    "_Feature"
   ],
   "window_display": false
  }
 },
 "nbformat": 4,
 "nbformat_minor": 2
}
